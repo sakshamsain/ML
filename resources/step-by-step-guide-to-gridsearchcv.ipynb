{
 "cells": [
  {
   "cell_type": "markdown",
   "id": "85bb9c6f",
   "metadata": {
    "papermill": {
     "duration": 0.027457,
     "end_time": "2024-09-30T07:18:59.979413",
     "exception": false,
     "start_time": "2024-09-30T07:18:59.951956",
     "status": "completed"
    },
    "tags": []
   },
   "source": [
    "<div style=\"color:white;background-color:#5642C5;padding:3%;border-radius:150px 150px;font-size:2.5em;text-align:center\">Beginners 🚀 Step by Step 📈 Guide to GridSearchCV 🧾 </div>"
   ]
  },
  {
   "cell_type": "markdown",
   "id": "7e838dd0",
   "metadata": {
    "papermill": {
     "duration": 0.025711,
     "end_time": "2024-09-30T07:19:00.032782",
     "exception": false,
     "start_time": "2024-09-30T07:19:00.007071",
     "status": "completed"
    },
    "tags": []
   },
   "source": [
    "![](https://miro.medium.com/max/746/1*E3FOlkD7LyeTbKMoTDnwFQ.png)"
   ]
  },
  {
   "cell_type": "markdown",
   "id": "d95faca1",
   "metadata": {
    "papermill": {
     "duration": 0.02479,
     "end_time": "2024-09-30T07:19:00.082565",
     "exception": false,
     "start_time": "2024-09-30T07:19:00.057775",
     "status": "completed"
    },
    "tags": []
   },
   "source": [
    "<div style=\"color:white;\n",
    "           display:fill;\n",
    "           border-radius:5px;\n",
    "           background-color:#5F1666;\n",
    "           font-size:33px;\n",
    "           font-family:Nexa;\n",
    "           letter-spacing:0.5px\">\n",
    "        <p style=\"padding: 15px;\n",
    "              color:white;\">\n",
    "            <b>GridSearchCV</b>\n",
    "        </p>\n",
    "</div>"
   ]
  },
  {
   "cell_type": "markdown",
   "id": "a44856ab",
   "metadata": {
    "papermill": {
     "duration": 0.024363,
     "end_time": "2024-09-30T07:19:00.132615",
     "exception": false,
     "start_time": "2024-09-30T07:19:00.108252",
     "status": "completed"
    },
    "tags": []
   },
   "source": [
    "<div style=\"color:white;\n",
    "           display:fill;\n",
    "           border-radius:5px;\n",
    "           background-color:#EEC3B3;\n",
    "           font-size:18px;\n",
    "           font-family:Nexa;\n",
    "           letter-spacing:0.5px\">\n",
    "        <p style=\"padding: 8px;\n",
    "              color:black;\">\n",
    "          A Machine Learning model is defined as a mathematical model with a number of parameters that need to be learned from the data. However, there are some parameters, known as Hyperparameters and those cannot be directly learned. They are commonly chosen by humans based on some intuition or hit and trial before the actual training begins. These parameters exhibit their importance by improving the performance of the model such as its complexity or its learning rate. Models can have many hyper-parameters and finding the best combination of parameters can be treated as a search problem.\n",
    "        </p>\n",
    "</div>"
   ]
  },
  {
   "cell_type": "markdown",
   "id": "c0cfed8f",
   "metadata": {
    "papermill": {
     "duration": 0.024364,
     "end_time": "2024-09-30T07:19:00.181698",
     "exception": false,
     "start_time": "2024-09-30T07:19:00.157334",
     "status": "completed"
    },
    "tags": []
   },
   "source": [
    "<div style=\"color:white;\n",
    "           display:fill;\n",
    "           border-radius:5px;\n",
    "           background-color:#EEC3B3;\n",
    "           font-size:18px;\n",
    "           font-family:Nexa;\n",
    "           letter-spacing:0.5px\">\n",
    "        <p style=\"padding: 8px;\n",
    "              color:black;\">\n",
    "          SVM also has some hyper-parameters (like what C or gamma values to use) and finding optimal hyper-parameter is a very hard task to solve. But it can be found by just trying all combinations and see what parameters work best. The main idea behind it is to create a grid of hyper-parameters and just try all of their combinations (hence, this method is called Gridsearch, But don’t worry! we don’t have to do it manually because Scikit-learn has this functionality built-in with GridSearchCV.\n",
    "GridSearchCV takes a dictionary that describes the parameters that could be tried on a model to train it. The grid of parameters is defined as a dictionary, where the keys are the parameters and the values are the settings to be tested.\n",
    "This article demonstrates how to use the GridSearchCV searching method to find optimal hyper-parameters and hence improve the accuracy/prediction results \n",
    "        </p>\n",
    "</div>"
   ]
  },
  {
   "cell_type": "markdown",
   "id": "6fceef3a",
   "metadata": {
    "papermill": {
     "duration": 0.024276,
     "end_time": "2024-09-30T07:19:00.230608",
     "exception": false,
     "start_time": "2024-09-30T07:19:00.206332",
     "status": "completed"
    },
    "tags": []
   },
   "source": [
    "> **What is grid search?**\n",
    "\n",
    "> **What are the pros and cons?**\n",
    "\n",
    "\n",
    "<div style=\"color:white;\n",
    "           display:fill;\n",
    "           border-radius:5px;\n",
    "           background-color:#EEC3B3;\n",
    "           font-size:18px;\n",
    "           font-family:Nexa;\n",
    "           letter-spacing:0.5px\">\n",
    "        <p style=\"padding: 8px;\n",
    "              color:black;\">\n",
    "          Gridsearch is a simple concept but effective technique in Machine Learning. The word GridSearch stands for the fact that we are searching for optimal parameter/parameters over a \"grid.\" These optimal parameters are also known as Hyperparameters. The Hyperparameters are model parameters that are set before fitting the model and determine the behavior of the model. For example, when we choose to use linear regression, we may decide to add a penalty to the loss function such as Ridge or Lasso. These penalties require specific alpha (the strength of the regularization technique) to set beforehand. The higher the value of alpha, the more penalty is being added. GridSearch finds the optimal value of alpha among a range of values provided by us, and then we go on and use that optimal value to fit the model and get sweet results. It is essential to understand those model parameters are different from models outcomes, for example, **coefficients** or model evaluation metrics such as **accuracy score** or **mean squared error** are model outcomes and different than hyperparameters.\n",
    "        </p>\n",
    "</div>"
   ]
  },
  {
   "cell_type": "code",
   "execution_count": 1,
   "id": "51120fc1",
   "metadata": {
    "execution": {
     "iopub.execute_input": "2024-09-30T07:19:00.283719Z",
     "iopub.status.busy": "2024-09-30T07:19:00.283193Z",
     "iopub.status.idle": "2024-09-30T07:19:01.474231Z",
     "shell.execute_reply": "2024-09-30T07:19:01.472964Z"
    },
    "papermill": {
     "duration": 1.221259,
     "end_time": "2024-09-30T07:19:01.477406",
     "exception": false,
     "start_time": "2024-09-30T07:19:00.256147",
     "status": "completed"
    },
    "tags": []
   },
   "outputs": [],
   "source": [
    "import pandas as pd \n",
    "import numpy as np \n",
    "import seaborn as sns \n",
    "import matplotlib.pyplot as plt\n",
    "%matplotlib inline \n",
    "\n",
    "import warnings\n",
    "warnings.filterwarnings(\"ignore\")"
   ]
  },
  {
   "cell_type": "code",
   "execution_count": 2,
   "id": "a81ddfe6",
   "metadata": {
    "execution": {
     "iopub.execute_input": "2024-09-30T07:19:01.529261Z",
     "iopub.status.busy": "2024-09-30T07:19:01.528787Z",
     "iopub.status.idle": "2024-09-30T07:19:01.748295Z",
     "shell.execute_reply": "2024-09-30T07:19:01.747119Z"
    },
    "papermill": {
     "duration": 0.248781,
     "end_time": "2024-09-30T07:19:01.751321",
     "exception": false,
     "start_time": "2024-09-30T07:19:01.502540",
     "status": "completed"
    },
    "tags": []
   },
   "outputs": [],
   "source": [
    "from sklearn.model_selection import train_test_split\n",
    "from sklearn.metrics import classification_report,f1_score,precision_score,recall_score,accuracy_score,confusion_matrix\n",
    "from sklearn.model_selection import GridSearchCV, StratifiedKFold, StratifiedShuffleSplit"
   ]
  },
  {
   "cell_type": "code",
   "execution_count": 3,
   "id": "65de56a1",
   "metadata": {
    "execution": {
     "iopub.execute_input": "2024-09-30T07:19:01.804620Z",
     "iopub.status.busy": "2024-09-30T07:19:01.803752Z",
     "iopub.status.idle": "2024-09-30T07:19:01.832216Z",
     "shell.execute_reply": "2024-09-30T07:19:01.830895Z"
    },
    "papermill": {
     "duration": 0.058736,
     "end_time": "2024-09-30T07:19:01.835382",
     "exception": false,
     "start_time": "2024-09-30T07:19:01.776646",
     "status": "completed"
    },
    "tags": []
   },
   "outputs": [],
   "source": [
    "loan = pd.read_csv(\"../input/loan-predication/train_u6lujuX_CVtuZ9i (1).csv\")\n",
    "loan = loan.drop(\"Loan_ID\",axis=1)"
   ]
  },
  {
   "cell_type": "code",
   "execution_count": 4,
   "id": "460fc11d",
   "metadata": {
    "execution": {
     "iopub.execute_input": "2024-09-30T07:19:01.887382Z",
     "iopub.status.busy": "2024-09-30T07:19:01.886935Z",
     "iopub.status.idle": "2024-09-30T07:19:01.992981Z",
     "shell.execute_reply": "2024-09-30T07:19:01.991732Z"
    },
    "papermill": {
     "duration": 0.135402,
     "end_time": "2024-09-30T07:19:01.995960",
     "exception": false,
     "start_time": "2024-09-30T07:19:01.860558",
     "status": "completed"
    },
    "tags": []
   },
   "outputs": [
    {
     "data": {
      "text/html": [
       "<style type=\"text/css\">\n",
       "#T_3d28b_row0_col0, #T_3d28b_row0_col1, #T_3d28b_row0_col2, #T_3d28b_row0_col3, #T_3d28b_row0_col4, #T_3d28b_row0_col5, #T_3d28b_row0_col6, #T_3d28b_row0_col7, #T_3d28b_row0_col8, #T_3d28b_row0_col9, #T_3d28b_row0_col10, #T_3d28b_row0_col11, #T_3d28b_row1_col0, #T_3d28b_row1_col1, #T_3d28b_row1_col2, #T_3d28b_row1_col3, #T_3d28b_row1_col4, #T_3d28b_row1_col5, #T_3d28b_row1_col6, #T_3d28b_row1_col7, #T_3d28b_row1_col8, #T_3d28b_row1_col9, #T_3d28b_row1_col10, #T_3d28b_row1_col11, #T_3d28b_row2_col0, #T_3d28b_row2_col1, #T_3d28b_row2_col2, #T_3d28b_row2_col3, #T_3d28b_row2_col4, #T_3d28b_row2_col5, #T_3d28b_row2_col6, #T_3d28b_row2_col7, #T_3d28b_row2_col8, #T_3d28b_row2_col9, #T_3d28b_row2_col10, #T_3d28b_row2_col11, #T_3d28b_row3_col0, #T_3d28b_row3_col1, #T_3d28b_row3_col2, #T_3d28b_row3_col3, #T_3d28b_row3_col4, #T_3d28b_row3_col5, #T_3d28b_row3_col6, #T_3d28b_row3_col7, #T_3d28b_row3_col8, #T_3d28b_row3_col9, #T_3d28b_row3_col10, #T_3d28b_row3_col11, #T_3d28b_row4_col0, #T_3d28b_row4_col1, #T_3d28b_row4_col2, #T_3d28b_row4_col3, #T_3d28b_row4_col4, #T_3d28b_row4_col5, #T_3d28b_row4_col6, #T_3d28b_row4_col7, #T_3d28b_row4_col8, #T_3d28b_row4_col9, #T_3d28b_row4_col10, #T_3d28b_row4_col11 {\n",
       "  background-color: Yellow;\n",
       "  color: Blue;\n",
       "  border-color: Blue;\n",
       "  font-size: 15px;\n",
       "  font-family: Lucida Calligraphy;\n",
       "}\n",
       "</style>\n",
       "<table id=\"T_3d28b_\">\n",
       "  <thead>\n",
       "    <tr>\n",
       "      <th class=\"blank level0\" >&nbsp;</th>\n",
       "      <th class=\"col_heading level0 col0\" >Gender</th>\n",
       "      <th class=\"col_heading level0 col1\" >Married</th>\n",
       "      <th class=\"col_heading level0 col2\" >Dependents</th>\n",
       "      <th class=\"col_heading level0 col3\" >Education</th>\n",
       "      <th class=\"col_heading level0 col4\" >Self_Employed</th>\n",
       "      <th class=\"col_heading level0 col5\" >ApplicantIncome</th>\n",
       "      <th class=\"col_heading level0 col6\" >CoapplicantIncome</th>\n",
       "      <th class=\"col_heading level0 col7\" >LoanAmount</th>\n",
       "      <th class=\"col_heading level0 col8\" >Loan_Amount_Term</th>\n",
       "      <th class=\"col_heading level0 col9\" >Credit_History</th>\n",
       "      <th class=\"col_heading level0 col10\" >Property_Area</th>\n",
       "      <th class=\"col_heading level0 col11\" >Loan_Status</th>\n",
       "    </tr>\n",
       "  </thead>\n",
       "  <tbody>\n",
       "    <tr>\n",
       "      <th id=\"T_3d28b_level0_row0\" class=\"row_heading level0 row0\" >0</th>\n",
       "      <td id=\"T_3d28b_row0_col0\" class=\"data row0 col0\" >Male</td>\n",
       "      <td id=\"T_3d28b_row0_col1\" class=\"data row0 col1\" >No</td>\n",
       "      <td id=\"T_3d28b_row0_col2\" class=\"data row0 col2\" >0</td>\n",
       "      <td id=\"T_3d28b_row0_col3\" class=\"data row0 col3\" >Graduate</td>\n",
       "      <td id=\"T_3d28b_row0_col4\" class=\"data row0 col4\" >No</td>\n",
       "      <td id=\"T_3d28b_row0_col5\" class=\"data row0 col5\" >5849</td>\n",
       "      <td id=\"T_3d28b_row0_col6\" class=\"data row0 col6\" >0.000000</td>\n",
       "      <td id=\"T_3d28b_row0_col7\" class=\"data row0 col7\" >nan</td>\n",
       "      <td id=\"T_3d28b_row0_col8\" class=\"data row0 col8\" >360.000000</td>\n",
       "      <td id=\"T_3d28b_row0_col9\" class=\"data row0 col9\" >1.000000</td>\n",
       "      <td id=\"T_3d28b_row0_col10\" class=\"data row0 col10\" >Urban</td>\n",
       "      <td id=\"T_3d28b_row0_col11\" class=\"data row0 col11\" >Y</td>\n",
       "    </tr>\n",
       "    <tr>\n",
       "      <th id=\"T_3d28b_level0_row1\" class=\"row_heading level0 row1\" >1</th>\n",
       "      <td id=\"T_3d28b_row1_col0\" class=\"data row1 col0\" >Male</td>\n",
       "      <td id=\"T_3d28b_row1_col1\" class=\"data row1 col1\" >Yes</td>\n",
       "      <td id=\"T_3d28b_row1_col2\" class=\"data row1 col2\" >1</td>\n",
       "      <td id=\"T_3d28b_row1_col3\" class=\"data row1 col3\" >Graduate</td>\n",
       "      <td id=\"T_3d28b_row1_col4\" class=\"data row1 col4\" >No</td>\n",
       "      <td id=\"T_3d28b_row1_col5\" class=\"data row1 col5\" >4583</td>\n",
       "      <td id=\"T_3d28b_row1_col6\" class=\"data row1 col6\" >1508.000000</td>\n",
       "      <td id=\"T_3d28b_row1_col7\" class=\"data row1 col7\" >128.000000</td>\n",
       "      <td id=\"T_3d28b_row1_col8\" class=\"data row1 col8\" >360.000000</td>\n",
       "      <td id=\"T_3d28b_row1_col9\" class=\"data row1 col9\" >1.000000</td>\n",
       "      <td id=\"T_3d28b_row1_col10\" class=\"data row1 col10\" >Rural</td>\n",
       "      <td id=\"T_3d28b_row1_col11\" class=\"data row1 col11\" >N</td>\n",
       "    </tr>\n",
       "    <tr>\n",
       "      <th id=\"T_3d28b_level0_row2\" class=\"row_heading level0 row2\" >2</th>\n",
       "      <td id=\"T_3d28b_row2_col0\" class=\"data row2 col0\" >Male</td>\n",
       "      <td id=\"T_3d28b_row2_col1\" class=\"data row2 col1\" >Yes</td>\n",
       "      <td id=\"T_3d28b_row2_col2\" class=\"data row2 col2\" >0</td>\n",
       "      <td id=\"T_3d28b_row2_col3\" class=\"data row2 col3\" >Graduate</td>\n",
       "      <td id=\"T_3d28b_row2_col4\" class=\"data row2 col4\" >Yes</td>\n",
       "      <td id=\"T_3d28b_row2_col5\" class=\"data row2 col5\" >3000</td>\n",
       "      <td id=\"T_3d28b_row2_col6\" class=\"data row2 col6\" >0.000000</td>\n",
       "      <td id=\"T_3d28b_row2_col7\" class=\"data row2 col7\" >66.000000</td>\n",
       "      <td id=\"T_3d28b_row2_col8\" class=\"data row2 col8\" >360.000000</td>\n",
       "      <td id=\"T_3d28b_row2_col9\" class=\"data row2 col9\" >1.000000</td>\n",
       "      <td id=\"T_3d28b_row2_col10\" class=\"data row2 col10\" >Urban</td>\n",
       "      <td id=\"T_3d28b_row2_col11\" class=\"data row2 col11\" >Y</td>\n",
       "    </tr>\n",
       "    <tr>\n",
       "      <th id=\"T_3d28b_level0_row3\" class=\"row_heading level0 row3\" >3</th>\n",
       "      <td id=\"T_3d28b_row3_col0\" class=\"data row3 col0\" >Male</td>\n",
       "      <td id=\"T_3d28b_row3_col1\" class=\"data row3 col1\" >Yes</td>\n",
       "      <td id=\"T_3d28b_row3_col2\" class=\"data row3 col2\" >0</td>\n",
       "      <td id=\"T_3d28b_row3_col3\" class=\"data row3 col3\" >Not Graduate</td>\n",
       "      <td id=\"T_3d28b_row3_col4\" class=\"data row3 col4\" >No</td>\n",
       "      <td id=\"T_3d28b_row3_col5\" class=\"data row3 col5\" >2583</td>\n",
       "      <td id=\"T_3d28b_row3_col6\" class=\"data row3 col6\" >2358.000000</td>\n",
       "      <td id=\"T_3d28b_row3_col7\" class=\"data row3 col7\" >120.000000</td>\n",
       "      <td id=\"T_3d28b_row3_col8\" class=\"data row3 col8\" >360.000000</td>\n",
       "      <td id=\"T_3d28b_row3_col9\" class=\"data row3 col9\" >1.000000</td>\n",
       "      <td id=\"T_3d28b_row3_col10\" class=\"data row3 col10\" >Urban</td>\n",
       "      <td id=\"T_3d28b_row3_col11\" class=\"data row3 col11\" >Y</td>\n",
       "    </tr>\n",
       "    <tr>\n",
       "      <th id=\"T_3d28b_level0_row4\" class=\"row_heading level0 row4\" >4</th>\n",
       "      <td id=\"T_3d28b_row4_col0\" class=\"data row4 col0\" >Male</td>\n",
       "      <td id=\"T_3d28b_row4_col1\" class=\"data row4 col1\" >No</td>\n",
       "      <td id=\"T_3d28b_row4_col2\" class=\"data row4 col2\" >0</td>\n",
       "      <td id=\"T_3d28b_row4_col3\" class=\"data row4 col3\" >Graduate</td>\n",
       "      <td id=\"T_3d28b_row4_col4\" class=\"data row4 col4\" >No</td>\n",
       "      <td id=\"T_3d28b_row4_col5\" class=\"data row4 col5\" >6000</td>\n",
       "      <td id=\"T_3d28b_row4_col6\" class=\"data row4 col6\" >0.000000</td>\n",
       "      <td id=\"T_3d28b_row4_col7\" class=\"data row4 col7\" >141.000000</td>\n",
       "      <td id=\"T_3d28b_row4_col8\" class=\"data row4 col8\" >360.000000</td>\n",
       "      <td id=\"T_3d28b_row4_col9\" class=\"data row4 col9\" >1.000000</td>\n",
       "      <td id=\"T_3d28b_row4_col10\" class=\"data row4 col10\" >Urban</td>\n",
       "      <td id=\"T_3d28b_row4_col11\" class=\"data row4 col11\" >Y</td>\n",
       "    </tr>\n",
       "  </tbody>\n",
       "</table>\n"
      ],
      "text/plain": [
       "<pandas.io.formats.style.Styler at 0x7ca7e24a9810>"
      ]
     },
     "execution_count": 4,
     "metadata": {},
     "output_type": "execute_result"
    }
   ],
   "source": [
    "loan.head().style.set_properties(**{'background-color' : 'Yellow',\n",
    "                           'color' : 'Blue',\n",
    "                           'border-color' : 'Blue',\n",
    "                           'font-size':'15px','font-family' :'Lucida Calligraphy'})"
   ]
  },
  {
   "cell_type": "code",
   "execution_count": 5,
   "id": "179b96ad",
   "metadata": {
    "execution": {
     "iopub.execute_input": "2024-09-30T07:19:02.049902Z",
     "iopub.status.busy": "2024-09-30T07:19:02.048657Z",
     "iopub.status.idle": "2024-09-30T07:19:02.061710Z",
     "shell.execute_reply": "2024-09-30T07:19:02.060497Z"
    },
    "papermill": {
     "duration": 0.042834,
     "end_time": "2024-09-30T07:19:02.064485",
     "exception": false,
     "start_time": "2024-09-30T07:19:02.021651",
     "status": "completed"
    },
    "tags": []
   },
   "outputs": [
    {
     "data": {
      "text/plain": [
       "Gender               13\n",
       "Married               3\n",
       "Dependents           15\n",
       "Education             0\n",
       "Self_Employed        32\n",
       "ApplicantIncome       0\n",
       "CoapplicantIncome     0\n",
       "LoanAmount           22\n",
       "Loan_Amount_Term     14\n",
       "Credit_History       50\n",
       "Property_Area         0\n",
       "Loan_Status           0\n",
       "dtype: int64"
      ]
     },
     "execution_count": 5,
     "metadata": {},
     "output_type": "execute_result"
    }
   ],
   "source": [
    "loan.isnull().sum()"
   ]
  },
  {
   "cell_type": "code",
   "execution_count": 6,
   "id": "29095ec5",
   "metadata": {
    "execution": {
     "iopub.execute_input": "2024-09-30T07:19:02.117351Z",
     "iopub.status.busy": "2024-09-30T07:19:02.116908Z",
     "iopub.status.idle": "2024-09-30T07:19:02.136080Z",
     "shell.execute_reply": "2024-09-30T07:19:02.134926Z"
    },
    "papermill": {
     "duration": 0.049108,
     "end_time": "2024-09-30T07:19:02.139141",
     "exception": false,
     "start_time": "2024-09-30T07:19:02.090033",
     "status": "completed"
    },
    "tags": []
   },
   "outputs": [],
   "source": [
    "loan[\"Gender\"].fillna(method=\"backfill\",inplace=True)\n",
    "loan[\"Married\"].fillna(value=\"Yes\",inplace=True)\n",
    "loan[\"Dependents\"].fillna(value= 0,inplace=True)\n",
    "loan['Self_Employed'].fillna('No', inplace=True)\n",
    "loan['LoanAmount'].fillna(loan['LoanAmount'].mean(), inplace=True)\n",
    "loan['Loan_Amount_Term'].fillna(value= 360,inplace=True)\n",
    "loan['Credit_History'].fillna(method=\"backfill\", inplace=True)"
   ]
  },
  {
   "cell_type": "code",
   "execution_count": 7,
   "id": "ca1cb6a4",
   "metadata": {
    "execution": {
     "iopub.execute_input": "2024-09-30T07:19:02.192398Z",
     "iopub.status.busy": "2024-09-30T07:19:02.191976Z",
     "iopub.status.idle": "2024-09-30T07:19:02.885315Z",
     "shell.execute_reply": "2024-09-30T07:19:02.883932Z"
    },
    "papermill": {
     "duration": 0.723362,
     "end_time": "2024-09-30T07:19:02.888308",
     "exception": false,
     "start_time": "2024-09-30T07:19:02.164946",
     "status": "completed"
    },
    "tags": []
   },
   "outputs": [
    {
     "data": {
      "image/png": "[encoded data removed]",
      "text/plain": [
       "<Figure size 1800x720 with 2 Axes>"
      ]
     },
     "metadata": {
      "needs_background": "light"
     },
     "output_type": "display_data"
    }
   ],
   "source": [
    "import missingno as msno\n",
    "msno.matrix(loan,color=(1, 0.25, 0.25));"
   ]
  },
  {
   "cell_type": "code",
   "execution_count": 8,
   "id": "26c94692",
   "metadata": {
    "execution": {
     "iopub.execute_input": "2024-09-30T07:19:02.943304Z",
     "iopub.status.busy": "2024-09-30T07:19:02.942851Z",
     "iopub.status.idle": "2024-09-30T07:19:02.965218Z",
     "shell.execute_reply": "2024-09-30T07:19:02.963665Z"
    },
    "papermill": {
     "duration": 0.052943,
     "end_time": "2024-09-30T07:19:02.968036",
     "exception": false,
     "start_time": "2024-09-30T07:19:02.915093",
     "status": "completed"
    },
    "tags": []
   },
   "outputs": [
    {
     "name": "stdout",
     "output_type": "stream",
     "text": [
      "<class 'pandas.core.frame.DataFrame'>\n",
      "RangeIndex: 614 entries, 0 to 613\n",
      "Data columns (total 12 columns):\n",
      " #   Column             Non-Null Count  Dtype  \n",
      "---  ------             --------------  -----  \n",
      " 0   Gender             614 non-null    object \n",
      " 1   Married            614 non-null    object \n",
      " 2   Dependents         614 non-null    object \n",
      " 3   Education          614 non-null    object \n",
      " 4   Self_Employed      614 non-null    object \n",
      " 5   ApplicantIncome    614 non-null    int64  \n",
      " 6   CoapplicantIncome  614 non-null    float64\n",
      " 7   LoanAmount         614 non-null    float64\n",
      " 8   Loan_Amount_Term   614 non-null    float64\n",
      " 9   Credit_History     614 non-null    float64\n",
      " 10  Property_Area      614 non-null    object \n",
      " 11  Loan_Status        614 non-null    object \n",
      "dtypes: float64(4), int64(1), object(7)\n",
      "memory usage: 57.7+ KB\n"
     ]
    }
   ],
   "source": [
    "loan.info()"
   ]
  },
  {
   "cell_type": "code",
   "execution_count": 9,
   "id": "b21a65cd",
   "metadata": {
    "execution": {
     "iopub.execute_input": "2024-09-30T07:19:03.023492Z",
     "iopub.status.busy": "2024-09-30T07:19:03.023034Z",
     "iopub.status.idle": "2024-09-30T07:19:03.059753Z",
     "shell.execute_reply": "2024-09-30T07:19:03.058524Z"
    },
    "papermill": {
     "duration": 0.067501,
     "end_time": "2024-09-30T07:19:03.062617",
     "exception": false,
     "start_time": "2024-09-30T07:19:02.995116",
     "status": "completed"
    },
    "tags": []
   },
   "outputs": [
    {
     "data": {
      "text/html": [
       "<div>\n",
       "<style scoped>\n",
       "    .dataframe tbody tr th:only-of-type {\n",
       "        vertical-align: middle;\n",
       "    }\n",
       "\n",
       "    .dataframe tbody tr th {\n",
       "        vertical-align: top;\n",
       "    }\n",
       "\n",
       "    .dataframe thead th {\n",
       "        text-align: right;\n",
       "    }\n",
       "</style>\n",
       "<table border=\"1\" class=\"dataframe\">\n",
       "  <thead>\n",
       "    <tr style=\"text-align: right;\">\n",
       "      <th></th>\n",
       "      <th>ApplicantIncome</th>\n",
       "      <th>CoapplicantIncome</th>\n",
       "      <th>LoanAmount</th>\n",
       "      <th>Loan_Amount_Term</th>\n",
       "      <th>Credit_History</th>\n",
       "    </tr>\n",
       "  </thead>\n",
       "  <tbody>\n",
       "    <tr>\n",
       "      <th>count</th>\n",
       "      <td>614.000000</td>\n",
       "      <td>614.000000</td>\n",
       "      <td>614.000000</td>\n",
       "      <td>614.000000</td>\n",
       "      <td>614.00000</td>\n",
       "    </tr>\n",
       "    <tr>\n",
       "      <th>mean</th>\n",
       "      <td>5403.459283</td>\n",
       "      <td>1621.245798</td>\n",
       "      <td>146.412162</td>\n",
       "      <td>342.410423</td>\n",
       "      <td>0.84202</td>\n",
       "    </tr>\n",
       "    <tr>\n",
       "      <th>std</th>\n",
       "      <td>6109.041673</td>\n",
       "      <td>2926.248369</td>\n",
       "      <td>84.037468</td>\n",
       "      <td>64.428629</td>\n",
       "      <td>0.36502</td>\n",
       "    </tr>\n",
       "    <tr>\n",
       "      <th>min</th>\n",
       "      <td>150.000000</td>\n",
       "      <td>0.000000</td>\n",
       "      <td>9.000000</td>\n",
       "      <td>12.000000</td>\n",
       "      <td>0.00000</td>\n",
       "    </tr>\n",
       "    <tr>\n",
       "      <th>25%</th>\n",
       "      <td>2877.500000</td>\n",
       "      <td>0.000000</td>\n",
       "      <td>100.250000</td>\n",
       "      <td>360.000000</td>\n",
       "      <td>1.00000</td>\n",
       "    </tr>\n",
       "    <tr>\n",
       "      <th>50%</th>\n",
       "      <td>3812.500000</td>\n",
       "      <td>1188.500000</td>\n",
       "      <td>129.000000</td>\n",
       "      <td>360.000000</td>\n",
       "      <td>1.00000</td>\n",
       "    </tr>\n",
       "    <tr>\n",
       "      <th>75%</th>\n",
       "      <td>5795.000000</td>\n",
       "      <td>2297.250000</td>\n",
       "      <td>164.750000</td>\n",
       "      <td>360.000000</td>\n",
       "      <td>1.00000</td>\n",
       "    </tr>\n",
       "    <tr>\n",
       "      <th>max</th>\n",
       "      <td>81000.000000</td>\n",
       "      <td>41667.000000</td>\n",
       "      <td>700.000000</td>\n",
       "      <td>480.000000</td>\n",
       "      <td>1.00000</td>\n",
       "    </tr>\n",
       "  </tbody>\n",
       "</table>\n",
       "</div>"
      ],
      "text/plain": [
       "       ApplicantIncome  CoapplicantIncome  LoanAmount  Loan_Amount_Term  \\\n",
       "count       614.000000         614.000000  614.000000        614.000000   \n",
       "mean       5403.459283        1621.245798  146.412162        342.410423   \n",
       "std        6109.041673        2926.248369   84.037468         64.428629   \n",
       "min         150.000000           0.000000    9.000000         12.000000   \n",
       "25%        2877.500000           0.000000  100.250000        360.000000   \n",
       "50%        3812.500000        1188.500000  129.000000        360.000000   \n",
       "75%        5795.000000        2297.250000  164.750000        360.000000   \n",
       "max       81000.000000       41667.000000  700.000000        480.000000   \n",
       "\n",
       "       Credit_History  \n",
       "count       614.00000  \n",
       "mean          0.84202  \n",
       "std           0.36502  \n",
       "min           0.00000  \n",
       "25%           1.00000  \n",
       "50%           1.00000  \n",
       "75%           1.00000  \n",
       "max           1.00000  "
      ]
     },
     "execution_count": 9,
     "metadata": {},
     "output_type": "execute_result"
    }
   ],
   "source": [
    "loan.describe()"
   ]
  },
  {
   "cell_type": "code",
   "execution_count": 10,
   "id": "a247f84d",
   "metadata": {
    "execution": {
     "iopub.execute_input": "2024-09-30T07:19:03.120267Z",
     "iopub.status.busy": "2024-09-30T07:19:03.119300Z",
     "iopub.status.idle": "2024-09-30T07:19:03.617598Z",
     "shell.execute_reply": "2024-09-30T07:19:03.616356Z"
    },
    "papermill": {
     "duration": 0.529337,
     "end_time": "2024-09-30T07:19:03.620294",
     "exception": false,
     "start_time": "2024-09-30T07:19:03.090957",
     "status": "completed"
    },
    "tags": []
   },
   "outputs": [
    {
     "data": {
      "image/png": "[encoded data removed]",
      "text/plain": [
       "<Figure size 1440x576 with 1 Axes>"
      ]
     },
     "metadata": {
      "needs_background": "light"
     },
     "output_type": "display_data"
    }
   ],
   "source": [
    "plt.subplots(figsize=(20,8))\n",
    "p = sns.barplot(x=loan[\"Property_Area\"],y=loan[\"LoanAmount\"],palette=\"Set1\", saturation=2, edgecolor = \"yellow\", linewidth = 2.5,)\n",
    "p.axes.set_title(\"\\n Property Area\\n\", fontsize=35)\n",
    "plt.ylabel(\"Loan Amount\" , fontsize = 25)\n",
    "plt.xlabel(\"\\nProperty Area\" , fontsize = 25)\n",
    "# plt.yscale(\"log\")\n",
    "plt.xticks(rotation = 45)\n",
    "for container in p.containers:\n",
    "    p.bar_label(container,label_type = \"center\",padding = 8,size = 30,color = \"black\",rotation = 45,\n",
    "    bbox={\"boxstyle\": \"round\", \"pad\": 0.6, \"facecolor\": \"pink\", \"edgecolor\": \"black\", \"alpha\": .6})\n",
    "\n",
    "sns.despine(left=True, bottom=True)\n",
    "plt.show()"
   ]
  },
  {
   "cell_type": "code",
   "execution_count": 11,
   "id": "0bbad8cc",
   "metadata": {
    "execution": {
     "iopub.execute_input": "2024-09-30T07:19:03.678960Z",
     "iopub.status.busy": "2024-09-30T07:19:03.678462Z",
     "iopub.status.idle": "2024-09-30T07:19:03.935634Z",
     "shell.execute_reply": "2024-09-30T07:19:03.934539Z"
    },
    "papermill": {
     "duration": 0.289808,
     "end_time": "2024-09-30T07:19:03.938696",
     "exception": false,
     "start_time": "2024-09-30T07:19:03.648888",
     "status": "completed"
    },
    "tags": []
   },
   "outputs": [],
   "source": [
    "import category_encoders as ce \n",
    "encoder = ce.OrdinalEncoder(['Gender','Married','Education','Self_Employed','Property_Area'])\n",
    "loan = encoder.fit_transform(loan)"
   ]
  },
  {
   "cell_type": "code",
   "execution_count": 12,
   "id": "e31819fc",
   "metadata": {
    "execution": {
     "iopub.execute_input": "2024-09-30T07:19:03.998437Z",
     "iopub.status.busy": "2024-09-30T07:19:03.997956Z",
     "iopub.status.idle": "2024-09-30T07:19:04.005892Z",
     "shell.execute_reply": "2024-09-30T07:19:04.004385Z"
    },
    "papermill": {
     "duration": 0.040517,
     "end_time": "2024-09-30T07:19:04.008924",
     "exception": false,
     "start_time": "2024-09-30T07:19:03.968407",
     "status": "completed"
    },
    "tags": []
   },
   "outputs": [],
   "source": [
    "from sklearn.preprocessing import LabelEncoder\n",
    "encoder = LabelEncoder()\n",
    "loan['Loan_Status'] = encoder.fit_transform(loan['Loan_Status'])"
   ]
  },
  {
   "cell_type": "code",
   "execution_count": 13,
   "id": "f4e37e74",
   "metadata": {
    "execution": {
     "iopub.execute_input": "2024-09-30T07:19:04.066657Z",
     "iopub.status.busy": "2024-09-30T07:19:04.066189Z",
     "iopub.status.idle": "2024-09-30T07:19:04.074481Z",
     "shell.execute_reply": "2024-09-30T07:19:04.072999Z"
    },
    "papermill": {
     "duration": 0.040551,
     "end_time": "2024-09-30T07:19:04.077475",
     "exception": false,
     "start_time": "2024-09-30T07:19:04.036924",
     "status": "completed"
    },
    "tags": []
   },
   "outputs": [],
   "source": [
    "X = loan.drop('Loan_Status',axis=1)\n",
    "y = loan['Loan_Status']"
   ]
  },
  {
   "cell_type": "code",
   "execution_count": 14,
   "id": "f4765c6d",
   "metadata": {
    "execution": {
     "iopub.execute_input": "2024-09-30T07:19:04.154527Z",
     "iopub.status.busy": "2024-09-30T07:19:04.153460Z",
     "iopub.status.idle": "2024-09-30T07:19:04.165687Z",
     "shell.execute_reply": "2024-09-30T07:19:04.164203Z"
    },
    "papermill": {
     "duration": 0.053583,
     "end_time": "2024-09-30T07:19:04.168851",
     "exception": false,
     "start_time": "2024-09-30T07:19:04.115268",
     "status": "completed"
    },
    "tags": []
   },
   "outputs": [],
   "source": [
    "X_train,X_test,y_train,y_test = train_test_split(X,y,test_size=.20,random_state=21)"
   ]
  },
  {
   "cell_type": "code",
   "execution_count": 15,
   "id": "16259ab1",
   "metadata": {
    "execution": {
     "iopub.execute_input": "2024-09-30T07:19:04.228268Z",
     "iopub.status.busy": "2024-09-30T07:19:04.227247Z",
     "iopub.status.idle": "2024-09-30T07:19:04.244397Z",
     "shell.execute_reply": "2024-09-30T07:19:04.243123Z"
    },
    "papermill": {
     "duration": 0.049742,
     "end_time": "2024-09-30T07:19:04.247257",
     "exception": false,
     "start_time": "2024-09-30T07:19:04.197515",
     "status": "completed"
    },
    "tags": []
   },
   "outputs": [
    {
     "data": {
      "text/html": [
       "<div>\n",
       "<style scoped>\n",
       "    .dataframe tbody tr th:only-of-type {\n",
       "        vertical-align: middle;\n",
       "    }\n",
       "\n",
       "    .dataframe tbody tr th {\n",
       "        vertical-align: top;\n",
       "    }\n",
       "\n",
       "    .dataframe thead th {\n",
       "        text-align: right;\n",
       "    }\n",
       "</style>\n",
       "<table border=\"1\" class=\"dataframe\">\n",
       "  <thead>\n",
       "    <tr style=\"text-align: right;\">\n",
       "      <th></th>\n",
       "      <th>Gender</th>\n",
       "      <th>Married</th>\n",
       "      <th>Dependents</th>\n",
       "      <th>Education</th>\n",
       "      <th>Self_Employed</th>\n",
       "      <th>ApplicantIncome</th>\n",
       "      <th>CoapplicantIncome</th>\n",
       "      <th>LoanAmount</th>\n",
       "      <th>Loan_Amount_Term</th>\n",
       "      <th>Credit_History</th>\n",
       "      <th>Property_Area</th>\n",
       "    </tr>\n",
       "  </thead>\n",
       "  <tbody>\n",
       "    <tr>\n",
       "      <th>37</th>\n",
       "      <td>2</td>\n",
       "      <td>2</td>\n",
       "      <td>1</td>\n",
       "      <td>1</td>\n",
       "      <td>1</td>\n",
       "      <td>3667</td>\n",
       "      <td>1459.0</td>\n",
       "      <td>144.0</td>\n",
       "      <td>360.0</td>\n",
       "      <td>1.0</td>\n",
       "      <td>3</td>\n",
       "    </tr>\n",
       "  </tbody>\n",
       "</table>\n",
       "</div>"
      ],
      "text/plain": [
       "    Gender  Married  Dependents  Education  Self_Employed  ApplicantIncome  \\\n",
       "37       2        2           1          1              1             3667   \n",
       "\n",
       "    CoapplicantIncome  LoanAmount  Loan_Amount_Term  Credit_History  \\\n",
       "37             1459.0       144.0             360.0             1.0   \n",
       "\n",
       "    Property_Area  \n",
       "37              3  "
      ]
     },
     "execution_count": 15,
     "metadata": {},
     "output_type": "execute_result"
    }
   ],
   "source": [
    "X_train.head(1)"
   ]
  },
  {
   "cell_type": "markdown",
   "id": "4f2f6585",
   "metadata": {
    "papermill": {
     "duration": 0.028087,
     "end_time": "2024-09-30T07:19:04.304097",
     "exception": false,
     "start_time": "2024-09-30T07:19:04.276010",
     "status": "completed"
    },
    "tags": []
   },
   "source": [
    "<div style=\"color:white;background-color:#5642C5;padding:3%;border-radius:110px 110px;font-size:2.5em;text-align:center\">Model Building 📚</div>"
   ]
  },
  {
   "cell_type": "markdown",
   "id": "95f8e1c3",
   "metadata": {
    "papermill": {
     "duration": 0.029386,
     "end_time": "2024-09-30T07:19:04.364481",
     "exception": false,
     "start_time": "2024-09-30T07:19:04.335095",
     "status": "completed"
    },
    "tags": []
   },
   "source": [
    "<h1 style=\"color:#5642C5;font-size:45px;font-family:Georgia;text-align:center;\">  🎲  <strong style=\"color:Red;font-size:40px;font-family:serif;\">LogisticRegression</strong> 🎲  </h1>"
   ]
  },
  {
   "cell_type": "code",
   "execution_count": 16,
   "id": "3cba3531",
   "metadata": {
    "execution": {
     "iopub.execute_input": "2024-09-30T07:19:04.424790Z",
     "iopub.status.busy": "2024-09-30T07:19:04.424026Z",
     "iopub.status.idle": "2024-09-30T07:19:04.837036Z",
     "shell.execute_reply": "2024-09-30T07:19:04.835612Z"
    },
    "papermill": {
     "duration": 0.446792,
     "end_time": "2024-09-30T07:19:04.840228",
     "exception": false,
     "start_time": "2024-09-30T07:19:04.393436",
     "status": "completed"
    },
    "tags": []
   },
   "outputs": [
    {
     "name": "stdout",
     "output_type": "stream",
     "text": [
      "Training Accuracy    : 79.63 %\n",
      "Model Accuracy Score : 82.11 %\n",
      "\u001b[1m--------------------------------------------------------\u001b[0m\n"
     ]
    },
    {
     "data": {
      "image/png": "[encoded data removed]",
      "text/plain": [
       "<Figure size 432x288 with 2 Axes>"
      ]
     },
     "metadata": {
      "needs_background": "light"
     },
     "output_type": "display_data"
    }
   ],
   "source": [
    "from sklearn.metrics import accuracy_score,classification_report,confusion_matrix,plot_confusion_matrix\n",
    "\n",
    "# Logistic Regression\n",
    "from sklearn.linear_model import LogisticRegression\n",
    "logreg = LogisticRegression()  \n",
    "logreg.fit(X_train, y_train)\n",
    "y_pred_lr = logreg.predict(X_test)\n",
    "\n",
    "log_train = round(logreg.score(X_train, y_train) * 100, 2)\n",
    "log_accuracy = round(accuracy_score(y_pred_lr, y_test) * 100, 2)\n",
    "\n",
    "print(\"Training Accuracy    :\",log_train ,\"%\")\n",
    "print(\"Model Accuracy Score :\",log_accuracy ,\"%\")\n",
    "print(\"\\033[1m--------------------------------------------------------\\033[0m\")\n",
    "plot_confusion_matrix(logreg, X_test, y_test);\n",
    "plt.title('Confusion Matrix');"
   ]
  },
  {
   "cell_type": "markdown",
   "id": "016e68d5",
   "metadata": {
    "papermill": {
     "duration": 0.029479,
     "end_time": "2024-09-30T07:19:04.899421",
     "exception": false,
     "start_time": "2024-09-30T07:19:04.869942",
     "status": "completed"
    },
    "tags": []
   },
   "source": [
    "<span class=\"label label-default\" style=\"background-color:#DC1010; border-radius:12px; font-weight: bold; font-family:Verdana; font-size:28px; color:#FBFAFC; \">LogisticRegression GridSearchCV 📊📈</span>"
   ]
  },
  {
   "cell_type": "code",
   "execution_count": 17,
   "id": "3047aa8b",
   "metadata": {
    "execution": {
     "iopub.execute_input": "2024-09-30T07:19:04.960316Z",
     "iopub.status.busy": "2024-09-30T07:19:04.959878Z",
     "iopub.status.idle": "2024-09-30T07:19:07.741589Z",
     "shell.execute_reply": "2024-09-30T07:19:07.740459Z"
    },
    "papermill": {
     "duration": 2.816011,
     "end_time": "2024-09-30T07:19:07.744272",
     "exception": false,
     "start_time": "2024-09-30T07:19:04.928261",
     "status": "completed"
    },
    "tags": []
   },
   "outputs": [
    {
     "data": {
      "text/plain": [
       "GridSearchCV(cv=5, estimator=LogisticRegression(),\n",
       "             param_grid={'C': [1, 2, 3, 4, 5, 6, 7, 8, 9, 10, 12, 13, 14, 15,\n",
       "                               16, 16.5, 17],\n",
       "                         'penalty': ['l2']},\n",
       "             scoring='accuracy')"
      ]
     },
     "execution_count": 17,
     "metadata": {},
     "output_type": "execute_result"
    }
   ],
   "source": [
    "C_vals = [1,2,3,4,5,6,7,8,9,10,12,13,14,15,16,16.5,17]\n",
    "penalties = ['l2']\n",
    "\n",
    "param = {'penalty': penalties, 'C': C_vals}\n",
    "\n",
    "logreg = LogisticRegression()\n",
    "## Calling on GridSearchCV object. \n",
    "grid_log = GridSearchCV(estimator=LogisticRegression(), \n",
    "                           param_grid = param,\n",
    "                           scoring = 'accuracy',\n",
    "                           cv = 5\n",
    "                          )\n",
    "## Fitting the model\n",
    "grid_log.fit(X_train, y_train)"
   ]
  },
  {
   "cell_type": "code",
   "execution_count": 18,
   "id": "29db4787",
   "metadata": {
    "execution": {
     "iopub.execute_input": "2024-09-30T07:19:07.805954Z",
     "iopub.status.busy": "2024-09-30T07:19:07.805448Z",
     "iopub.status.idle": "2024-09-30T07:19:07.813751Z",
     "shell.execute_reply": "2024-09-30T07:19:07.812338Z"
    },
    "papermill": {
     "duration": 0.041926,
     "end_time": "2024-09-30T07:19:07.816461",
     "exception": false,
     "start_time": "2024-09-30T07:19:07.774535",
     "status": "completed"
    },
    "tags": []
   },
   "outputs": [
    {
     "name": "stdout",
     "output_type": "stream",
     "text": [
      "0.7922284065141209\n",
      "{'C': 16, 'penalty': 'l2'}\n",
      "LogisticRegression(C=16)\n"
     ]
    }
   ],
   "source": [
    "print (grid_log.best_score_)\n",
    "print (grid_log.best_params_)\n",
    "print(grid_log.best_estimator_)"
   ]
  },
  {
   "cell_type": "code",
   "execution_count": 19,
   "id": "9d34d6a1",
   "metadata": {
    "execution": {
     "iopub.execute_input": "2024-09-30T07:19:07.877623Z",
     "iopub.status.busy": "2024-09-30T07:19:07.877182Z",
     "iopub.status.idle": "2024-09-30T07:19:08.115884Z",
     "shell.execute_reply": "2024-09-30T07:19:08.114551Z"
    },
    "papermill": {
     "duration": 0.272157,
     "end_time": "2024-09-30T07:19:08.118733",
     "exception": false,
     "start_time": "2024-09-30T07:19:07.846576",
     "status": "completed"
    },
    "tags": []
   },
   "outputs": [
    {
     "name": "stdout",
     "output_type": "stream",
     "text": [
      "Training Accuracy with GridSearch : 79.63 %\n",
      "Model Accuracy with GridSearch    : 80.0 %\n",
      "\u001b[1m--------------------------------------------------------\u001b[0m\n"
     ]
    },
    {
     "data": {
      "image/png": "[encoded data removed]",
      "text/plain": [
       "<Figure size 432x288 with 2 Axes>"
      ]
     },
     "metadata": {
      "needs_background": "light"
     },
     "output_type": "display_data"
    }
   ],
   "source": [
    "### Using the best parameters from the grid-search.\n",
    "logreg_grid = grid_log.best_estimator_\n",
    "\n",
    "log_train_grid = round(logreg_grid.score(X_train, y_train) * 100, 2)\n",
    "log_accuracy_grid = logreg_grid.score(X_train,y_train).round(2)*100\n",
    "\n",
    "print(\"Training Accuracy with GridSearch :\",log_train_grid  ,\"%\")\n",
    "print(\"Model Accuracy with GridSearch    :\",log_accuracy_grid ,\"%\")\n",
    "print(\"\\033[1m--------------------------------------------------------\\033[0m\")\n",
    "plot_confusion_matrix(grid_log, X_test, y_test);\n",
    "plt.title('Confusion Matrix');"
   ]
  },
  {
   "cell_type": "markdown",
   "id": "19a08bc1",
   "metadata": {
    "papermill": {
     "duration": 0.029049,
     "end_time": "2024-09-30T07:19:08.177586",
     "exception": false,
     "start_time": "2024-09-30T07:19:08.148537",
     "status": "completed"
    },
    "tags": []
   },
   "source": [
    "<h1 style=\"color:#5642C5;font-size:45px;font-family:Georgia;text-align:center;\"> 🎲 <strong style=\"color:Red;font-size:40px;font-family:serif;\">Decision Tree Classifier</strong> 🎲 </h1>"
   ]
  },
  {
   "cell_type": "code",
   "execution_count": 20,
   "id": "1de74b6c",
   "metadata": {
    "execution": {
     "iopub.execute_input": "2024-09-30T07:19:08.238670Z",
     "iopub.status.busy": "2024-09-30T07:19:08.238225Z",
     "iopub.status.idle": "2024-09-30T07:19:08.538773Z",
     "shell.execute_reply": "2024-09-30T07:19:08.537501Z"
    },
    "papermill": {
     "duration": 0.334926,
     "end_time": "2024-09-30T07:19:08.541552",
     "exception": false,
     "start_time": "2024-09-30T07:19:08.206626",
     "status": "completed"
    },
    "tags": []
   },
   "outputs": [
    {
     "name": "stdout",
     "output_type": "stream",
     "text": [
      "Training Accuracy    : 100.0 %\n",
      "Model Accuracy Score : 73.98 %\n",
      "\u001b[1m--------------------------------------------------------\u001b[0m\n",
      "[[67 18]\n",
      " [14 24]]\n"
     ]
    },
    {
     "data": {
      "image/png": "[encoded data removed]",
      "text/plain": [
       "<Figure size 432x288 with 2 Axes>"
      ]
     },
     "metadata": {
      "needs_background": "light"
     },
     "output_type": "display_data"
    }
   ],
   "source": [
    "# Decision Tree\n",
    "from sklearn.tree import DecisionTreeClassifier\n",
    "decision = DecisionTreeClassifier()\n",
    "decision.fit(X_train, y_train)\n",
    "y_pred_dec = decision.predict(X_test)\n",
    "\n",
    "decision_train = round(decision.score(X_train, y_train) * 100, 2)\n",
    "decision_accuracy = round(accuracy_score(y_pred_dec, y_test) * 100, 2)\n",
    "\n",
    "print(\"Training Accuracy    :\",decision_train ,\"%\")\n",
    "print(\"Model Accuracy Score :\",decision_accuracy ,\"%\")\n",
    "print(\"\\033[1m--------------------------------------------------------\\033[0m\")\n",
    "plot_confusion_matrix(decision, X_test, y_test);\n",
    "plt.title('Confusion Matrix');\n",
    "print(confusion_matrix(y_test,y_pred_dec))"
   ]
  },
  {
   "cell_type": "markdown",
   "id": "12bf54e1",
   "metadata": {
    "papermill": {
     "duration": 0.029308,
     "end_time": "2024-09-30T07:19:08.600471",
     "exception": false,
     "start_time": "2024-09-30T07:19:08.571163",
     "status": "completed"
    },
    "tags": []
   },
   "source": [
    "<span class=\"label label-default\" style=\"background-color:#DC1010; border-radius:12px; font-weight: bold; font-family:Verdana; font-size:28px; color:#FBFAFC; \">DecisionTreeClassifier GridSearchCV 📊📈</span>"
   ]
  },
  {
   "cell_type": "code",
   "execution_count": 21,
   "id": "cf6bcbfc",
   "metadata": {
    "execution": {
     "iopub.execute_input": "2024-09-30T07:19:08.662302Z",
     "iopub.status.busy": "2024-09-30T07:19:08.661861Z",
     "iopub.status.idle": "2024-09-30T07:19:11.581353Z",
     "shell.execute_reply": "2024-09-30T07:19:11.580026Z"
    },
    "papermill": {
     "duration": 2.953753,
     "end_time": "2024-09-30T07:19:11.583958",
     "exception": false,
     "start_time": "2024-09-30T07:19:08.630205",
     "status": "completed"
    },
    "tags": []
   },
   "outputs": [
    {
     "name": "stdout",
     "output_type": "stream",
     "text": [
      "Fitting 10 folds for each of 40 candidates, totalling 400 fits\n"
     ]
    },
    {
     "data": {
      "text/plain": [
       "GridSearchCV(cv=StratifiedShuffleSplit(n_splits=10, random_state=None, test_size=0.25,\n",
       "            train_size=None),\n",
       "             estimator=DecisionTreeClassifier(), n_jobs=-1,\n",
       "             param_grid={'criterion': ['gini', 'entropy'],\n",
       "                         'max_depth': [5, 10, 20, 25],\n",
       "                         'min_samples_leaf': [10, 20, 50, 100, 120]},\n",
       "             scoring='accuracy', verbose=1)"
      ]
     },
     "execution_count": 21,
     "metadata": {},
     "output_type": "execute_result"
    }
   ],
   "source": [
    "# Create the parameter grid based on the results of random search \n",
    "params = {\n",
    "    'max_depth': [5, 10, 20,25],\n",
    "    'min_samples_leaf': [10, 20, 50, 100,120],\n",
    "    'criterion': [\"gini\", \"entropy\"]\n",
    "}\n",
    "\n",
    "cv = StratifiedShuffleSplit(n_splits = 10, test_size = .25)\n",
    "\n",
    "grid_dec = GridSearchCV(estimator=DecisionTreeClassifier(), \n",
    "                           param_grid=params, \n",
    "                           cv=cv, n_jobs=-1, verbose=1, scoring = \"accuracy\")\n",
    "\n",
    "grid_dec.fit(X_train,y_train)"
   ]
  },
  {
   "cell_type": "code",
   "execution_count": 22,
   "id": "24841c31",
   "metadata": {
    "execution": {
     "iopub.execute_input": "2024-09-30T07:19:11.646027Z",
     "iopub.status.busy": "2024-09-30T07:19:11.645510Z",
     "iopub.status.idle": "2024-09-30T07:19:11.653149Z",
     "shell.execute_reply": "2024-09-30T07:19:11.651729Z"
    },
    "papermill": {
     "duration": 0.042506,
     "end_time": "2024-09-30T07:19:11.656427",
     "exception": false,
     "start_time": "2024-09-30T07:19:11.613921",
     "status": "completed"
    },
    "tags": []
   },
   "outputs": [
    {
     "name": "stdout",
     "output_type": "stream",
     "text": [
      "0.7788617886178861\n",
      "{'criterion': 'gini', 'max_depth': 5, 'min_samples_leaf': 50}\n",
      "DecisionTreeClassifier(max_depth=5, min_samples_leaf=50)\n"
     ]
    }
   ],
   "source": [
    "print (grid_dec.best_score_)\n",
    "print (grid_dec.best_params_)\n",
    "print(grid_dec.best_estimator_)"
   ]
  },
  {
   "cell_type": "code",
   "execution_count": 23,
   "id": "c4b10a63",
   "metadata": {
    "execution": {
     "iopub.execute_input": "2024-09-30T07:19:11.719788Z",
     "iopub.status.busy": "2024-09-30T07:19:11.719376Z",
     "iopub.status.idle": "2024-09-30T07:19:12.020754Z",
     "shell.execute_reply": "2024-09-30T07:19:12.019403Z"
    },
    "papermill": {
     "duration": 0.336023,
     "end_time": "2024-09-30T07:19:12.023652",
     "exception": false,
     "start_time": "2024-09-30T07:19:11.687629",
     "status": "completed"
    },
    "tags": []
   },
   "outputs": [
    {
     "name": "stdout",
     "output_type": "stream",
     "text": [
      "Training Accuracy with GridSearch : 79.84 %\n",
      "Model Accuracy with GridSearch    : 80.0 %\n",
      "\u001b[1m--------------------------------------------------------\u001b[0m\n"
     ]
    },
    {
     "data": {
      "image/png": "[encoded data removed]",
      "text/plain": [
       "<Figure size 432x288 with 2 Axes>"
      ]
     },
     "metadata": {
      "needs_background": "light"
     },
     "output_type": "display_data"
    }
   ],
   "source": [
    "### Using the best parameters from the grid-search.\n",
    "dec_grid = grid_dec.best_estimator_\n",
    "\n",
    "decision_train_grid = round(dec_grid.score(X_train, y_train) * 100, 2)\n",
    "decision_accuracy_grid = dec_grid.score(X_train,y_train).round(2)*100\n",
    "\n",
    "print(\"Training Accuracy with GridSearch :\",decision_train_grid  ,\"%\")\n",
    "print(\"Model Accuracy with GridSearch    :\",decision_accuracy_grid ,\"%\")\n",
    "print(\"\\033[1m--------------------------------------------------------\\033[0m\")\n",
    "\n",
    "plot_confusion_matrix(grid_dec, X_test, y_test);\n",
    "plt.title('Confusion Matrix');"
   ]
  },
  {
   "cell_type": "markdown",
   "id": "0734444b",
   "metadata": {
    "papermill": {
     "duration": 0.030929,
     "end_time": "2024-09-30T07:19:12.085287",
     "exception": false,
     "start_time": "2024-09-30T07:19:12.054358",
     "status": "completed"
    },
    "tags": []
   },
   "source": [
    "<h1 style=\"color:#5642C5;font-size:45px;font-family:Georgia;text-align:center;\">  🎲  <strong style=\"color:Red;font-size:40px;font-family:serif;\">KNN </strong> 🎲  </h1>"
   ]
  },
  {
   "cell_type": "code",
   "execution_count": 24,
   "id": "35c5ecee",
   "metadata": {
    "execution": {
     "iopub.execute_input": "2024-09-30T07:19:12.148888Z",
     "iopub.status.busy": "2024-09-30T07:19:12.147730Z",
     "iopub.status.idle": "2024-09-30T07:19:12.468305Z",
     "shell.execute_reply": "2024-09-30T07:19:12.467152Z"
    },
    "papermill": {
     "duration": 0.355267,
     "end_time": "2024-09-30T07:19:12.471135",
     "exception": false,
     "start_time": "2024-09-30T07:19:12.115868",
     "status": "completed"
    },
    "tags": []
   },
   "outputs": [
    {
     "name": "stdout",
     "output_type": "stream",
     "text": [
      "Training Accuracy    : 75.36 %\n",
      "Model Accuracy Score : 60.98 %\n",
      "\u001b[1m--------------------------------------------------------\u001b[0m\n"
     ]
    },
    {
     "data": {
      "image/png": "[encoded data removed]",
      "text/plain": [
       "<Figure size 432x288 with 2 Axes>"
      ]
     },
     "metadata": {
      "needs_background": "light"
     },
     "output_type": "display_data"
    }
   ],
   "source": [
    "from sklearn.neighbors import KNeighborsClassifier\n",
    "knn = KNeighborsClassifier()\n",
    "knn.fit(X_train, y_train)\n",
    "y_pred_knn = knn.predict(X_test)\n",
    "\n",
    "knn_train = round(knn.score(X_train, y_train) * 100, 2)\n",
    "knn_accuracy = round(accuracy_score(y_pred_knn, y_test) * 100, 2)\n",
    "\n",
    "print(\"Training Accuracy    :\",knn_train ,\"%\")\n",
    "print(\"Model Accuracy Score :\",knn_accuracy ,\"%\")\n",
    "print(\"\\033[1m--------------------------------------------------------\\033[0m\")\n",
    "plot_confusion_matrix(knn, X_test, y_test);\n",
    "plt.title('Confusion Matrix');"
   ]
  },
  {
   "cell_type": "markdown",
   "id": "79d94aa8",
   "metadata": {
    "papermill": {
     "duration": 0.030786,
     "end_time": "2024-09-30T07:19:12.532809",
     "exception": false,
     "start_time": "2024-09-30T07:19:12.502023",
     "status": "completed"
    },
    "tags": []
   },
   "source": [
    "<span class=\"label label-default\" style=\"background-color:#DC1010; border-radius:12px; font-weight: bold; font-family:Verdana; font-size:28px; color:#FBFAFC; \">KNeighborsClassifier GridSearchCV 📊📈</span>"
   ]
  },
  {
   "cell_type": "code",
   "execution_count": 25,
   "id": "f96cb0dc",
   "metadata": {
    "execution": {
     "iopub.execute_input": "2024-09-30T07:19:12.596894Z",
     "iopub.status.busy": "2024-09-30T07:19:12.596417Z",
     "iopub.status.idle": "2024-09-30T07:19:15.502558Z",
     "shell.execute_reply": "2024-09-30T07:19:15.501234Z"
    },
    "papermill": {
     "duration": 2.942062,
     "end_time": "2024-09-30T07:19:15.505780",
     "exception": false,
     "start_time": "2024-09-30T07:19:12.563718",
     "status": "completed"
    },
    "tags": []
   },
   "outputs": [
    {
     "data": {
      "text/plain": [
       "GridSearchCV(cv=StratifiedShuffleSplit(n_splits=10, random_state=15, test_size=0.3,\n",
       "            train_size=None),\n",
       "             estimator=KNeighborsClassifier(), n_jobs=-1,\n",
       "             param_grid={'n_neighbors': range(1, 31),\n",
       "                         'weights': ['uniform', 'distance']},\n",
       "             verbose=False)"
      ]
     },
     "execution_count": 25,
     "metadata": {},
     "output_type": "execute_result"
    }
   ],
   "source": [
    "from sklearn.model_selection import GridSearchCV\n",
    "\n",
    "k_range = range(1,31) \n",
    "weights_options=['uniform','distance']\n",
    "param = {'n_neighbors':k_range, 'weights':weights_options}\n",
    "\n",
    "cv = StratifiedShuffleSplit(n_splits=10, test_size=.30, random_state=15)\n",
    "\n",
    "grid_knn = GridSearchCV(KNeighborsClassifier(), param,cv=cv,verbose = False, n_jobs=-1)\n",
    "\n",
    "grid_knn.fit(X_train,y_train)"
   ]
  },
  {
   "cell_type": "code",
   "execution_count": 26,
   "id": "227bfd27",
   "metadata": {
    "execution": {
     "iopub.execute_input": "2024-09-30T07:19:15.576007Z",
     "iopub.status.busy": "2024-09-30T07:19:15.575296Z",
     "iopub.status.idle": "2024-09-30T07:19:15.584143Z",
     "shell.execute_reply": "2024-09-30T07:19:15.582853Z"
    },
    "papermill": {
     "duration": 0.047226,
     "end_time": "2024-09-30T07:19:15.588036",
     "exception": false,
     "start_time": "2024-09-30T07:19:15.540810",
     "status": "completed"
    },
    "tags": []
   },
   "outputs": [
    {
     "name": "stdout",
     "output_type": "stream",
     "text": [
      "0.6891891891891893\n",
      "{'n_neighbors': 26, 'weights': 'uniform'}\n",
      "KNeighborsClassifier(n_neighbors=26)\n"
     ]
    }
   ],
   "source": [
    "print(grid_knn.best_score_)\n",
    "print(grid_knn.best_params_)\n",
    "print(grid_knn.best_estimator_)"
   ]
  },
  {
   "cell_type": "code",
   "execution_count": 27,
   "id": "d585bc3e",
   "metadata": {
    "execution": {
     "iopub.execute_input": "2024-09-30T07:19:15.660690Z",
     "iopub.status.busy": "2024-09-30T07:19:15.659795Z",
     "iopub.status.idle": "2024-09-30T07:19:16.191520Z",
     "shell.execute_reply": "2024-09-30T07:19:16.190175Z"
    },
    "papermill": {
     "duration": 0.568564,
     "end_time": "2024-09-30T07:19:16.194496",
     "exception": false,
     "start_time": "2024-09-30T07:19:15.625932",
     "status": "completed"
    },
    "tags": []
   },
   "outputs": [
    {
     "name": "stdout",
     "output_type": "stream",
     "text": [
      "Training Accuracy with GridSearch : 68.64 %\n",
      "Model Accuracy with GridSearch    : 69.0 %\n",
      "\u001b[1m--------------------------------------------------------\u001b[0m\n"
     ]
    },
    {
     "data": {
      "image/png": "[encoded data removed]",
      "text/plain": [
       "<Figure size 432x288 with 2 Axes>"
      ]
     },
     "metadata": {
      "needs_background": "light"
     },
     "output_type": "display_data"
    }
   ],
   "source": [
    "### Using the best parameters from the grid-search.\n",
    "knn_grid = grid_knn.best_estimator_\n",
    "\n",
    "knn_train_grid = round(knn_grid.score(X_train, y_train) * 100, 2)\n",
    "knn_accuracy_grid = knn_grid.score(X_train,y_train).round(2)*100\n",
    "\n",
    "print(\"Training Accuracy with GridSearch :\",knn_train_grid  ,\"%\")\n",
    "print(\"Model Accuracy with GridSearch    :\",knn_accuracy_grid ,\"%\")\n",
    "print(\"\\033[1m--------------------------------------------------------\\033[0m\")\n",
    "\n",
    "plot_confusion_matrix(knn_grid, X_test, y_test);\n",
    "plt.title('Confusion Matrix');"
   ]
  },
  {
   "cell_type": "markdown",
   "id": "067b0692",
   "metadata": {
    "papermill": {
     "duration": 0.031553,
     "end_time": "2024-09-30T07:19:16.258434",
     "exception": false,
     "start_time": "2024-09-30T07:19:16.226881",
     "status": "completed"
    },
    "tags": []
   },
   "source": [
    "<h1 style=\"color:#5642C5;font-size:45px;font-family:Georgia;text-align:center;\">  🎲  <strong style=\"color:Red;font-size:40px;font-family:serif;\">AdaBoostClassifier </strong> 🎲  </h1>"
   ]
  },
  {
   "cell_type": "code",
   "execution_count": 28,
   "id": "7ae144d8",
   "metadata": {
    "execution": {
     "iopub.execute_input": "2024-09-30T07:19:16.324928Z",
     "iopub.status.busy": "2024-09-30T07:19:16.324371Z",
     "iopub.status.idle": "2024-09-30T07:19:16.741539Z",
     "shell.execute_reply": "2024-09-30T07:19:16.740385Z"
    },
    "papermill": {
     "duration": 0.453459,
     "end_time": "2024-09-30T07:19:16.744218",
     "exception": false,
     "start_time": "2024-09-30T07:19:16.290759",
     "status": "completed"
    },
    "tags": []
   },
   "outputs": [
    {
     "name": "stdout",
     "output_type": "stream",
     "text": [
      "Training Accuracy    : 83.3 %\n",
      "Model Accuracy Score : 76.42 %\n",
      "\u001b[1m--------------------------------------------------------\u001b[0m\n"
     ]
    },
    {
     "data": {
      "image/png": "[encoded data removed]",
      "text/plain": [
       "<Figure size 432x288 with 2 Axes>"
      ]
     },
     "metadata": {
      "needs_background": "light"
     },
     "output_type": "display_data"
    }
   ],
   "source": [
    "from sklearn.ensemble import AdaBoostClassifier\n",
    "ada = AdaBoostClassifier()\n",
    "ada.fit(X_train,y_train)\n",
    "y_pred_ada = ada.predict(X_test)\n",
    "\n",
    "ada_train = round(ada.score(X_train, y_train) * 100, 2)\n",
    "ada_accuracy = round(accuracy_score(y_pred_ada, y_test) * 100, 2)\n",
    "\n",
    "print(\"Training Accuracy    :\",ada_train ,\"%\")\n",
    "print(\"Model Accuracy Score :\",ada_accuracy ,\"%\")\n",
    "print(\"\\033[1m--------------------------------------------------------\\033[0m\")\n",
    "plot_confusion_matrix(ada, X_test, y_test);\n",
    "plt.title('Confusion Matrix');"
   ]
  },
  {
   "cell_type": "markdown",
   "id": "e6c8acce",
   "metadata": {
    "papermill": {
     "duration": 0.031538,
     "end_time": "2024-09-30T07:19:16.808249",
     "exception": false,
     "start_time": "2024-09-30T07:19:16.776711",
     "status": "completed"
    },
    "tags": []
   },
   "source": [
    "<span class=\"label label-default\" style=\"background-color:#DC1010; border-radius:12px; font-weight: bold; font-family:Verdana; font-size:28px; color:#FBFAFC; \">AdaBoostClassifier GridSearchCV 📊📈</span>"
   ]
  },
  {
   "cell_type": "code",
   "execution_count": 29,
   "id": "ead9ce0b",
   "metadata": {
    "execution": {
     "iopub.execute_input": "2024-09-30T07:19:16.874771Z",
     "iopub.status.busy": "2024-09-30T07:19:16.873723Z",
     "iopub.status.idle": "2024-09-30T07:20:04.179640Z",
     "shell.execute_reply": "2024-09-30T07:20:04.178433Z"
    },
    "papermill": {
     "duration": 47.374067,
     "end_time": "2024-09-30T07:20:04.214277",
     "exception": false,
     "start_time": "2024-09-30T07:19:16.840210",
     "status": "completed"
    },
    "tags": []
   },
   "outputs": [
    {
     "data": {
      "text/plain": [
       "GridSearchCV(cv=StratifiedShuffleSplit(n_splits=10, random_state=15, test_size=0.3,\n",
       "            train_size=None),\n",
       "             estimator=AdaBoostClassifier(), n_jobs=-1,\n",
       "             param_grid={'learning_rate': [0.1, 1, 0.01, 0.5],\n",
       "                         'n_estimators': [100, 140, 145, 150, 160, 170, 175,\n",
       "                                          180, 185]})"
      ]
     },
     "execution_count": 29,
     "metadata": {},
     "output_type": "execute_result"
    }
   ],
   "source": [
    "from sklearn.ensemble import AdaBoostClassifier\n",
    "n_estimators = [100,140,145,150,160, 170,175,180,185];\n",
    "learning_r = [0.1,1,0.01,0.5]\n",
    "\n",
    "parameters = {'n_estimators':n_estimators,\n",
    "              'learning_rate':learning_r\n",
    "              \n",
    "        }\n",
    "\n",
    "cv = StratifiedShuffleSplit(n_splits=10, test_size=.30, random_state=15)\n",
    "grid_ada = GridSearchCV(AdaBoostClassifier(base_estimator= None, ## If None, then the base estimator is a decision tree.\n",
    "                                     ),\n",
    "                                 param_grid=parameters,\n",
    "                                 cv=cv,\n",
    "                                 n_jobs = -1)\n",
    "grid_ada.fit(X_train,y_train) "
   ]
  },
  {
   "cell_type": "code",
   "execution_count": 30,
   "id": "70b1f44c",
   "metadata": {
    "execution": {
     "iopub.execute_input": "2024-09-30T07:20:04.282751Z",
     "iopub.status.busy": "2024-09-30T07:20:04.282331Z",
     "iopub.status.idle": "2024-09-30T07:20:04.289171Z",
     "shell.execute_reply": "2024-09-30T07:20:04.287859Z"
    },
    "papermill": {
     "duration": 0.044078,
     "end_time": "2024-09-30T07:20:04.292675",
     "exception": false,
     "start_time": "2024-09-30T07:20:04.248597",
     "status": "completed"
    },
    "tags": []
   },
   "outputs": [
    {
     "name": "stdout",
     "output_type": "stream",
     "text": [
      "0.7918918918918918\n",
      "{'learning_rate': 0.01, 'n_estimators': 100}\n",
      "AdaBoostClassifier(learning_rate=0.01, n_estimators=100)\n"
     ]
    }
   ],
   "source": [
    "print (grid_ada.best_score_)\n",
    "print (grid_ada.best_params_)\n",
    "print (grid_ada.best_estimator_)"
   ]
  },
  {
   "cell_type": "code",
   "execution_count": 31,
   "id": "a29f2f9f",
   "metadata": {
    "execution": {
     "iopub.execute_input": "2024-09-30T07:20:04.359398Z",
     "iopub.status.busy": "2024-09-30T07:20:04.358983Z",
     "iopub.status.idle": "2024-09-30T07:20:04.731241Z",
     "shell.execute_reply": "2024-09-30T07:20:04.729483Z"
    },
    "papermill": {
     "duration": 0.40936,
     "end_time": "2024-09-30T07:20:04.734574",
     "exception": false,
     "start_time": "2024-09-30T07:20:04.325214",
     "status": "completed"
    },
    "tags": []
   },
   "outputs": [
    {
     "name": "stdout",
     "output_type": "stream",
     "text": [
      "Training Accuracy with GridSearch : 79.84 %\n",
      "Model Accuracy with GridSearch    : 80.0 %\n",
      "\u001b[1m--------------------------------------------------------\u001b[0m\n"
     ]
    },
    {
     "data": {
      "image/png": "[encoded data removed]",
      "text/plain": [
       "<Figure size 432x288 with 2 Axes>"
      ]
     },
     "metadata": {
      "needs_background": "light"
     },
     "output_type": "display_data"
    }
   ],
   "source": [
    "### Using the best parameters from the grid-search.\n",
    "ada_grid = grid_ada.best_estimator_\n",
    "\n",
    "ada_train_grid = round(ada_grid.score(X_train, y_train) * 100, 2)\n",
    "ada_accuracy_grid = ada_grid.score(X_train,y_train).round(2)*100\n",
    "\n",
    "print(\"Training Accuracy with GridSearch :\",ada_train_grid  ,\"%\")\n",
    "print(\"Model Accuracy with GridSearch    :\",ada_accuracy_grid ,\"%\")\n",
    "print(\"\\033[1m--------------------------------------------------------\\033[0m\")\n",
    "\n",
    "plot_confusion_matrix(ada_grid, X_test, y_test);\n",
    "plt.title('Confusion Matrix');"
   ]
  },
  {
   "cell_type": "markdown",
   "id": "33acdc5f",
   "metadata": {
    "papermill": {
     "duration": 0.033118,
     "end_time": "2024-09-30T07:20:04.801973",
     "exception": false,
     "start_time": "2024-09-30T07:20:04.768855",
     "status": "completed"
    },
    "tags": []
   },
   "source": [
    "<h1 style=\"color:#5642C5;font-size:45px;font-family:Georgia;text-align:center;\">  🎲  <strong style=\"color:Red;font-size:40px;font-family:serif;\">GradientBoostingClassifier </strong> 🎲  </h1>"
   ]
  },
  {
   "cell_type": "code",
   "execution_count": 32,
   "id": "fe10289c",
   "metadata": {
    "execution": {
     "iopub.execute_input": "2024-09-30T07:20:04.871867Z",
     "iopub.status.busy": "2024-09-30T07:20:04.871390Z",
     "iopub.status.idle": "2024-09-30T07:20:05.287863Z",
     "shell.execute_reply": "2024-09-30T07:20:05.286563Z"
    },
    "papermill": {
     "duration": 0.456031,
     "end_time": "2024-09-30T07:20:05.290755",
     "exception": false,
     "start_time": "2024-09-30T07:20:04.834724",
     "status": "completed"
    },
    "tags": []
   },
   "outputs": [
    {
     "name": "stdout",
     "output_type": "stream",
     "text": [
      "Training Accuracy    : 87.37 %\n",
      "Model Accuracy Score : 75.61 %\n",
      "\u001b[1m--------------------------------------------------------\u001b[0m\n"
     ]
    },
    {
     "data": {
      "image/png": "[encoded data removed]",
      "text/plain": [
       "<Figure size 432x288 with 2 Axes>"
      ]
     },
     "metadata": {
      "needs_background": "light"
     },
     "output_type": "display_data"
    }
   ],
   "source": [
    "from sklearn.ensemble import GradientBoostingClassifier\n",
    "gbc = GradientBoostingClassifier()\n",
    "gbc.fit(X_train,y_train)\n",
    "y_pred_gbc = gbc.predict(X_test)\n",
    "\n",
    "\n",
    "gbc_train = round(gbc.score(X_train, y_train) * 100, 2)\n",
    "gbc_accuracy = round(accuracy_score(y_pred_gbc, y_test) * 100, 2)\n",
    "\n",
    "print(\"Training Accuracy    :\",gbc_train ,\"%\")\n",
    "print(\"Model Accuracy Score :\",gbc_accuracy ,\"%\")\n",
    "print(\"\\033[1m--------------------------------------------------------\\033[0m\")\n",
    "plot_confusion_matrix(gbc, X_test, y_test);\n",
    "plt.title('Confusion Matrix');"
   ]
  },
  {
   "cell_type": "markdown",
   "id": "2b0271bc",
   "metadata": {
    "papermill": {
     "duration": 0.0344,
     "end_time": "2024-09-30T07:20:05.359307",
     "exception": false,
     "start_time": "2024-09-30T07:20:05.324907",
     "status": "completed"
    },
    "tags": []
   },
   "source": [
    "<span class=\"label label-default\" style=\"background-color:#DC1010; border-radius:12px; font-weight: bold; font-family:Verdana; font-size:28px; color:#FBFAFC; \">GradientBoostingClassifier GridSearchCV 📊📈</span>"
   ]
  },
  {
   "cell_type": "code",
   "execution_count": 33,
   "id": "1f1a2314",
   "metadata": {
    "execution": {
     "iopub.execute_input": "2024-09-30T07:20:05.430880Z",
     "iopub.status.busy": "2024-09-30T07:20:05.430416Z",
     "iopub.status.idle": "2024-09-30T07:20:43.603179Z",
     "shell.execute_reply": "2024-09-30T07:20:43.601992Z"
    },
    "papermill": {
     "duration": 38.244973,
     "end_time": "2024-09-30T07:20:43.638999",
     "exception": false,
     "start_time": "2024-09-30T07:20:05.394026",
     "status": "completed"
    },
    "tags": []
   },
   "outputs": [
    {
     "data": {
      "text/plain": [
       "GridSearchCV(cv=StratifiedShuffleSplit(n_splits=10, random_state=15, test_size=0.3,\n",
       "            train_size=None),\n",
       "             estimator=GradientBoostingClassifier(random_state=42), n_jobs=-1,\n",
       "             param_grid={'learning_rate': [0.01, 0.025, 0.05, 0.075, 0.1],\n",
       "                         'max_depth': [3, 4, 5],\n",
       "                         'n_estimators': [140, 150, 160]},\n",
       "             scoring='f1')"
      ]
     },
     "execution_count": 33,
     "metadata": {},
     "output_type": "execute_result"
    }
   ],
   "source": [
    "### BEGIN SOLUTION\n",
    "from sklearn.ensemble import GradientBoostingClassifier\n",
    "    \n",
    "# The parameters to be fit\n",
    "param_grid = {\n",
    "    'learning_rate': [0.01, 0.025, 0.05, 0.075, 0.1],\n",
    "    'n_estimators':[140, 150, 160], \n",
    "    'max_depth':[3, 4, 5]       \n",
    "     }\n",
    "\n",
    "cv = StratifiedShuffleSplit(n_splits=10, test_size=.30, random_state=15)\n",
    "# The grid search object\n",
    "grid_gbc = GridSearchCV(GradientBoostingClassifier(random_state=42), \n",
    "                      param_grid=param_grid, \n",
    "                      scoring='f1',\n",
    "                      cv = cv,\n",
    "                      verbose=0, \n",
    "                      n_jobs=-1)\n",
    "\n",
    "grid_gbc.fit(X_train,y_train) "
   ]
  },
  {
   "cell_type": "code",
   "execution_count": 34,
   "id": "94e00c2f",
   "metadata": {
    "execution": {
     "iopub.execute_input": "2024-09-30T07:20:43.710700Z",
     "iopub.status.busy": "2024-09-30T07:20:43.709409Z",
     "iopub.status.idle": "2024-09-30T07:20:43.717623Z",
     "shell.execute_reply": "2024-09-30T07:20:43.716188Z"
    },
    "papermill": {
     "duration": 0.047489,
     "end_time": "2024-09-30T07:20:43.721029",
     "exception": false,
     "start_time": "2024-09-30T07:20:43.673540",
     "status": "completed"
    },
    "tags": []
   },
   "outputs": [
    {
     "name": "stdout",
     "output_type": "stream",
     "text": [
      "0.5192288777863995\n",
      "{'learning_rate': 0.1, 'max_depth': 4, 'n_estimators': 140}\n",
      "GradientBoostingClassifier(max_depth=4, n_estimators=140, random_state=42)\n"
     ]
    }
   ],
   "source": [
    "print (grid_gbc.best_score_)\n",
    "print (grid_gbc.best_params_)\n",
    "print (grid_gbc.best_estimator_)"
   ]
  },
  {
   "cell_type": "code",
   "execution_count": 35,
   "id": "7a8ce336",
   "metadata": {
    "execution": {
     "iopub.execute_input": "2024-09-30T07:20:43.792253Z",
     "iopub.status.busy": "2024-09-30T07:20:43.791788Z",
     "iopub.status.idle": "2024-09-30T07:20:44.082777Z",
     "shell.execute_reply": "2024-09-30T07:20:44.080848Z"
    },
    "papermill": {
     "duration": 0.331498,
     "end_time": "2024-09-30T07:20:44.087310",
     "exception": false,
     "start_time": "2024-09-30T07:20:43.755812",
     "status": "completed"
    },
    "tags": []
   },
   "outputs": [
    {
     "name": "stdout",
     "output_type": "stream",
     "text": [
      "Training Accuracy with GridSearch : 99.39 %\n",
      "Model Accuracy with GridSearch    : 99.0 %\n",
      "\u001b[1m--------------------------------------------------------\u001b[0m\n"
     ]
    },
    {
     "data": {
      "image/png": "[encoded data removed]",
      "text/plain": [
       "<Figure size 432x288 with 2 Axes>"
      ]
     },
     "metadata": {
      "needs_background": "light"
     },
     "output_type": "display_data"
    }
   ],
   "source": [
    "### Using the best parameters from the grid-search.\n",
    "gbc_grid = grid_gbc.best_estimator_\n",
    "\n",
    "gbc_train_grid = round(gbc_grid.score(X_train, y_train) * 100, 2)\n",
    "gbc_accuracy_grid = gbc_grid.score(X_train,y_train).round(2)*100\n",
    "\n",
    "print(\"Training Accuracy with GridSearch :\",gbc_train_grid  ,\"%\")\n",
    "print(\"Model Accuracy with GridSearch    :\",gbc_accuracy_grid ,\"%\")\n",
    "print(\"\\033[1m--------------------------------------------------------\\033[0m\")\n",
    "\n",
    "plot_confusion_matrix(gbc_grid, X_test, y_test);\n",
    "plt.title('Confusion Matrix');"
   ]
  },
  {
   "cell_type": "markdown",
   "id": "cf5d9e49",
   "metadata": {
    "papermill": {
     "duration": 0.043672,
     "end_time": "2024-09-30T07:20:44.175265",
     "exception": false,
     "start_time": "2024-09-30T07:20:44.131593",
     "status": "completed"
    },
    "tags": []
   },
   "source": [
    "<h1 style=\"color:#5642C5;font-size:45px;font-family:Georgia;text-align:center;\">  🎲  <strong style=\"color:Red;font-size:40px;font-family:serif;\">SVC </strong> 🎲  </h1>"
   ]
  },
  {
   "cell_type": "code",
   "execution_count": 36,
   "id": "f83d1098",
   "metadata": {
    "execution": {
     "iopub.execute_input": "2024-09-30T07:20:44.247180Z",
     "iopub.status.busy": "2024-09-30T07:20:44.246717Z",
     "iopub.status.idle": "2024-09-30T07:20:44.577646Z",
     "shell.execute_reply": "2024-09-30T07:20:44.576298Z"
    },
    "papermill": {
     "duration": 0.370416,
     "end_time": "2024-09-30T07:20:44.580802",
     "exception": false,
     "start_time": "2024-09-30T07:20:44.210386",
     "status": "completed"
    },
    "tags": []
   },
   "outputs": [
    {
     "name": "stdout",
     "output_type": "stream",
     "text": [
      "Training Accuracy    : 69.25 %\n",
      "Model Accuracy Score : 69.11 %\n",
      "\u001b[1m--------------------------------------------------------\u001b[0m\n",
      "[[85  0]\n",
      " [38  0]]\n"
     ]
    },
    {
     "data": {
      "image/png": "[encoded data removed]",
      "text/plain": [
       "<Figure size 432x288 with 2 Axes>"
      ]
     },
     "metadata": {
      "needs_background": "light"
     },
     "output_type": "display_data"
    }
   ],
   "source": [
    "# Support Vector Machines\n",
    "from sklearn.svm import SVC\n",
    "svc = SVC()\n",
    "svc.fit(X_train, y_train)\n",
    "y_pred_svc = svc.predict(X_test)\n",
    "\n",
    "svc_train = round(svc.score(X_train, y_train) * 100, 2)\n",
    "svc_accuracy = round(accuracy_score(y_pred_svc, y_test) * 100, 2)\n",
    "\n",
    "print(\"Training Accuracy    :\",svc_train ,\"%\")\n",
    "print(\"Model Accuracy Score :\",svc_accuracy ,\"%\")\n",
    "print(\"\\033[1m--------------------------------------------------------\\033[0m\")\n",
    "plot_confusion_matrix(svc, X_test, y_test);\n",
    "plt.title('Confusion Matrix');\n",
    "\n",
    "print(confusion_matrix(y_test,y_pred_svc))"
   ]
  },
  {
   "cell_type": "markdown",
   "id": "196612fe",
   "metadata": {
    "papermill": {
     "duration": 0.035349,
     "end_time": "2024-09-30T07:20:44.653084",
     "exception": false,
     "start_time": "2024-09-30T07:20:44.617735",
     "status": "completed"
    },
    "tags": []
   },
   "source": [
    "<span class=\"label label-default\" style=\"background-color:#DC1010; border-radius:12px; font-weight: bold; font-family:Verdana; font-size:28px; color:#FBFAFC; \">SVC GridSearchCV 📊📈</span>"
   ]
  },
  {
   "cell_type": "code",
   "execution_count": 37,
   "id": "761bfe47",
   "metadata": {
    "execution": {
     "iopub.execute_input": "2024-09-30T07:20:44.727023Z",
     "iopub.status.busy": "2024-09-30T07:20:44.726544Z",
     "iopub.status.idle": "2024-09-30T07:20:49.223857Z",
     "shell.execute_reply": "2024-09-30T07:20:49.222624Z"
    },
    "papermill": {
     "duration": 4.537587,
     "end_time": "2024-09-30T07:20:49.226513",
     "exception": false,
     "start_time": "2024-09-30T07:20:44.688926",
     "status": "completed"
    },
    "tags": []
   },
   "outputs": [
    {
     "name": "stdout",
     "output_type": "stream",
     "text": [
      "Fitting 10 folds for each of 25 candidates, totalling 250 fits\n",
      "[CV 1/10] END .......C=0.1, gamma=1, kernel=rbf;, score=0.689 total time=   0.0s\n",
      "[CV 2/10] END .......C=0.1, gamma=1, kernel=rbf;, score=0.689 total time=   0.0s\n",
      "[CV 3/10] END .......C=0.1, gamma=1, kernel=rbf;, score=0.689 total time=   0.0s\n",
      "[CV 4/10] END .......C=0.1, gamma=1, kernel=rbf;, score=0.689 total time=   0.0s\n",
      "[CV 5/10] END .......C=0.1, gamma=1, kernel=rbf;, score=0.689 total time=   0.0s\n",
      "[CV 6/10] END .......C=0.1, gamma=1, kernel=rbf;, score=0.689 total time=   0.0s\n",
      "[CV 7/10] END .......C=0.1, gamma=1, kernel=rbf;, score=0.689 total time=   0.0s\n",
      "[CV 8/10] END .......C=0.1, gamma=1, kernel=rbf;, score=0.689 total time=   0.0s\n",
      "[CV 9/10] END .......C=0.1, gamma=1, kernel=rbf;, score=0.689 total time=   0.0s\n",
      "[CV 10/10] END ......C=0.1, gamma=1, kernel=rbf;, score=0.689 total time=   0.0s\n",
      "[CV 1/10] END .....C=0.1, gamma=0.1, kernel=rbf;, score=0.689 total time=   0.0s\n",
      "[CV 2/10] END .....C=0.1, gamma=0.1, kernel=rbf;, score=0.689 total time=   0.0s\n",
      "[CV 3/10] END .....C=0.1, gamma=0.1, kernel=rbf;, score=0.689 total time=   0.0s\n",
      "[CV 4/10] END .....C=0.1, gamma=0.1, kernel=rbf;, score=0.689 total time=   0.0s\n",
      "[CV 5/10] END .....C=0.1, gamma=0.1, kernel=rbf;, score=0.689 total time=   0.0s\n",
      "[CV 6/10] END .....C=0.1, gamma=0.1, kernel=rbf;, score=0.689 total time=   0.0s\n",
      "[CV 7/10] END .....C=0.1, gamma=0.1, kernel=rbf;, score=0.689 total time=   0.0s\n",
      "[CV 8/10] END .....C=0.1, gamma=0.1, kernel=rbf;, score=0.689 total time=   0.0s\n",
      "[CV 9/10] END .....C=0.1, gamma=0.1, kernel=rbf;, score=0.689 total time=   0.0s\n",
      "[CV 10/10] END ....C=0.1, gamma=0.1, kernel=rbf;, score=0.689 total time=   0.0s\n",
      "[CV 1/10] END ....C=0.1, gamma=0.01, kernel=rbf;, score=0.689 total time=   0.0s\n",
      "[CV 2/10] END ....C=0.1, gamma=0.01, kernel=rbf;, score=0.689 total time=   0.0s\n",
      "[CV 3/10] END ....C=0.1, gamma=0.01, kernel=rbf;, score=0.689 total time=   0.0s\n",
      "[CV 4/10] END ....C=0.1, gamma=0.01, kernel=rbf;, score=0.689 total time=   0.0s\n",
      "[CV 5/10] END ....C=0.1, gamma=0.01, kernel=rbf;, score=0.689 total time=   0.0s\n",
      "[CV 6/10] END ....C=0.1, gamma=0.01, kernel=rbf;, score=0.689 total time=   0.0s\n",
      "[CV 7/10] END ....C=0.1, gamma=0.01, kernel=rbf;, score=0.689 total time=   0.0s\n",
      "[CV 8/10] END ....C=0.1, gamma=0.01, kernel=rbf;, score=0.689 total time=   0.0s\n",
      "[CV 9/10] END ....C=0.1, gamma=0.01, kernel=rbf;, score=0.689 total time=   0.0s\n",
      "[CV 10/10] END ...C=0.1, gamma=0.01, kernel=rbf;, score=0.689 total time=   0.0s\n",
      "[CV 1/10] END ...C=0.1, gamma=0.001, kernel=rbf;, score=0.689 total time=   0.0s\n",
      "[CV 2/10] END ...C=0.1, gamma=0.001, kernel=rbf;, score=0.689 total time=   0.0s\n",
      "[CV 3/10] END ...C=0.1, gamma=0.001, kernel=rbf;, score=0.689 total time=   0.0s\n",
      "[CV 4/10] END ...C=0.1, gamma=0.001, kernel=rbf;, score=0.689 total time=   0.0s\n",
      "[CV 5/10] END ...C=0.1, gamma=0.001, kernel=rbf;, score=0.689 total time=   0.0s\n",
      "[CV 6/10] END ...C=0.1, gamma=0.001, kernel=rbf;, score=0.689 total time=   0.0s\n",
      "[CV 7/10] END ...C=0.1, gamma=0.001, kernel=rbf;, score=0.689 total time=   0.0s\n",
      "[CV 8/10] END ...C=0.1, gamma=0.001, kernel=rbf;, score=0.689 total time=   0.0s\n",
      "[CV 9/10] END ...C=0.1, gamma=0.001, kernel=rbf;, score=0.689 total time=   0.0s\n",
      "[CV 10/10] END ..C=0.1, gamma=0.001, kernel=rbf;, score=0.689 total time=   0.0s\n",
      "[CV 1/10] END ..C=0.1, gamma=0.0001, kernel=rbf;, score=0.689 total time=   0.0s\n",
      "[CV 2/10] END ..C=0.1, gamma=0.0001, kernel=rbf;, score=0.689 total time=   0.0s\n",
      "[CV 3/10] END ..C=0.1, gamma=0.0001, kernel=rbf;, score=0.689 total time=   0.0s\n",
      "[CV 4/10] END ..C=0.1, gamma=0.0001, kernel=rbf;, score=0.689 total time=   0.0s\n",
      "[CV 5/10] END ..C=0.1, gamma=0.0001, kernel=rbf;, score=0.689 total time=   0.0s\n",
      "[CV 6/10] END ..C=0.1, gamma=0.0001, kernel=rbf;, score=0.689 total time=   0.0s\n",
      "[CV 7/10] END ..C=0.1, gamma=0.0001, kernel=rbf;, score=0.689 total time=   0.0s\n",
      "[CV 8/10] END ..C=0.1, gamma=0.0001, kernel=rbf;, score=0.689 total time=   0.0s\n",
      "[CV 9/10] END ..C=0.1, gamma=0.0001, kernel=rbf;, score=0.689 total time=   0.0s\n",
      "[CV 10/10] END .C=0.1, gamma=0.0001, kernel=rbf;, score=0.689 total time=   0.0s\n",
      "[CV 1/10] END .........C=1, gamma=1, kernel=rbf;, score=0.689 total time=   0.0s\n",
      "[CV 2/10] END .........C=1, gamma=1, kernel=rbf;, score=0.689 total time=   0.0s\n",
      "[CV 3/10] END .........C=1, gamma=1, kernel=rbf;, score=0.689 total time=   0.0s\n",
      "[CV 4/10] END .........C=1, gamma=1, kernel=rbf;, score=0.689 total time=   0.0s\n",
      "[CV 5/10] END .........C=1, gamma=1, kernel=rbf;, score=0.689 total time=   0.0s\n",
      "[CV 6/10] END .........C=1, gamma=1, kernel=rbf;, score=0.689 total time=   0.0s\n",
      "[CV 7/10] END .........C=1, gamma=1, kernel=rbf;, score=0.689 total time=   0.0s\n",
      "[CV 8/10] END .........C=1, gamma=1, kernel=rbf;, score=0.689 total time=   0.0s\n",
      "[CV 9/10] END .........C=1, gamma=1, kernel=rbf;, score=0.689 total time=   0.0s\n",
      "[CV 10/10] END ........C=1, gamma=1, kernel=rbf;, score=0.689 total time=   0.0s\n",
      "[CV 1/10] END .......C=1, gamma=0.1, kernel=rbf;, score=0.689 total time=   0.0s\n",
      "[CV 2/10] END .......C=1, gamma=0.1, kernel=rbf;, score=0.696 total time=   0.0s\n",
      "[CV 3/10] END .......C=1, gamma=0.1, kernel=rbf;, score=0.689 total time=   0.0s\n",
      "[CV 4/10] END .......C=1, gamma=0.1, kernel=rbf;, score=0.696 total time=   0.0s\n",
      "[CV 5/10] END .......C=1, gamma=0.1, kernel=rbf;, score=0.689 total time=   0.0s\n",
      "[CV 6/10] END .......C=1, gamma=0.1, kernel=rbf;, score=0.689 total time=   0.0s\n",
      "[CV 7/10] END .......C=1, gamma=0.1, kernel=rbf;, score=0.689 total time=   0.0s\n",
      "[CV 8/10] END .......C=1, gamma=0.1, kernel=rbf;, score=0.689 total time=   0.0s\n",
      "[CV 9/10] END .......C=1, gamma=0.1, kernel=rbf;, score=0.696 total time=   0.0s\n",
      "[CV 10/10] END ......C=1, gamma=0.1, kernel=rbf;, score=0.696 total time=   0.0s\n",
      "[CV 1/10] END ......C=1, gamma=0.01, kernel=rbf;, score=0.682 total time=   0.0s\n",
      "[CV 2/10] END ......C=1, gamma=0.01, kernel=rbf;, score=0.696 total time=   0.0s\n",
      "[CV 3/10] END ......C=1, gamma=0.01, kernel=rbf;, score=0.682 total time=   0.0s\n",
      "[CV 4/10] END ......C=1, gamma=0.01, kernel=rbf;, score=0.703 total time=   0.0s\n",
      "[CV 5/10] END ......C=1, gamma=0.01, kernel=rbf;, score=0.689 total time=   0.0s\n",
      "[CV 6/10] END ......C=1, gamma=0.01, kernel=rbf;, score=0.689 total time=   0.0s\n",
      "[CV 7/10] END ......C=1, gamma=0.01, kernel=rbf;, score=0.682 total time=   0.0s\n",
      "[CV 8/10] END ......C=1, gamma=0.01, kernel=rbf;, score=0.689 total time=   0.0s\n",
      "[CV 9/10] END ......C=1, gamma=0.01, kernel=rbf;, score=0.689 total time=   0.0s\n",
      "[CV 10/10] END .....C=1, gamma=0.01, kernel=rbf;, score=0.696 total time=   0.0s\n",
      "[CV 1/10] END .....C=1, gamma=0.001, kernel=rbf;, score=0.703 total time=   0.0s\n",
      "[CV 2/10] END .....C=1, gamma=0.001, kernel=rbf;, score=0.689 total time=   0.0s\n",
      "[CV 3/10] END .....C=1, gamma=0.001, kernel=rbf;, score=0.703 total time=   0.0s\n",
      "[CV 4/10] END .....C=1, gamma=0.001, kernel=rbf;, score=0.709 total time=   0.0s\n",
      "[CV 5/10] END .....C=1, gamma=0.001, kernel=rbf;, score=0.716 total time=   0.0s\n",
      "[CV 6/10] END .....C=1, gamma=0.001, kernel=rbf;, score=0.689 total time=   0.0s\n",
      "[CV 7/10] END .....C=1, gamma=0.001, kernel=rbf;, score=0.689 total time=   0.0s\n",
      "[CV 8/10] END .....C=1, gamma=0.001, kernel=rbf;, score=0.696 total time=   0.0s\n",
      "[CV 9/10] END .....C=1, gamma=0.001, kernel=rbf;, score=0.709 total time=   0.0s\n",
      "[CV 10/10] END ....C=1, gamma=0.001, kernel=rbf;, score=0.709 total time=   0.0s\n",
      "[CV 1/10] END ....C=1, gamma=0.0001, kernel=rbf;, score=0.689 total time=   0.0s\n",
      "[CV 2/10] END ....C=1, gamma=0.0001, kernel=rbf;, score=0.676 total time=   0.0s\n",
      "[CV 3/10] END ....C=1, gamma=0.0001, kernel=rbf;, score=0.682 total time=   0.0s\n",
      "[CV 4/10] END ....C=1, gamma=0.0001, kernel=rbf;, score=0.669 total time=   0.0s\n",
      "[CV 5/10] END ....C=1, gamma=0.0001, kernel=rbf;, score=0.676 total time=   0.0s\n",
      "[CV 6/10] END ....C=1, gamma=0.0001, kernel=rbf;, score=0.649 total time=   0.0s\n",
      "[CV 7/10] END ....C=1, gamma=0.0001, kernel=rbf;, score=0.676 total time=   0.0s\n",
      "[CV 8/10] END ....C=1, gamma=0.0001, kernel=rbf;, score=0.682 total time=   0.0s\n",
      "[CV 9/10] END ....C=1, gamma=0.0001, kernel=rbf;, score=0.676 total time=   0.0s\n",
      "[CV 10/10] END ...C=1, gamma=0.0001, kernel=rbf;, score=0.703 total time=   0.0s\n",
      "[CV 1/10] END ........C=10, gamma=1, kernel=rbf;, score=0.689 total time=   0.0s\n",
      "[CV 2/10] END ........C=10, gamma=1, kernel=rbf;, score=0.696 total time=   0.0s\n",
      "[CV 3/10] END ........C=10, gamma=1, kernel=rbf;, score=0.689 total time=   0.0s\n",
      "[CV 4/10] END ........C=10, gamma=1, kernel=rbf;, score=0.696 total time=   0.0s\n",
      "[CV 5/10] END ........C=10, gamma=1, kernel=rbf;, score=0.689 total time=   0.0s\n",
      "[CV 6/10] END ........C=10, gamma=1, kernel=rbf;, score=0.689 total time=   0.0s\n",
      "[CV 7/10] END ........C=10, gamma=1, kernel=rbf;, score=0.689 total time=   0.0s\n",
      "[CV 8/10] END ........C=10, gamma=1, kernel=rbf;, score=0.689 total time=   0.0s\n",
      "[CV 9/10] END ........C=10, gamma=1, kernel=rbf;, score=0.696 total time=   0.0s\n",
      "[CV 10/10] END .......C=10, gamma=1, kernel=rbf;, score=0.696 total time=   0.0s\n",
      "[CV 1/10] END ......C=10, gamma=0.1, kernel=rbf;, score=0.689 total time=   0.0s\n",
      "[CV 2/10] END ......C=10, gamma=0.1, kernel=rbf;, score=0.696 total time=   0.0s\n",
      "[CV 3/10] END ......C=10, gamma=0.1, kernel=rbf;, score=0.689 total time=   0.0s\n",
      "[CV 4/10] END ......C=10, gamma=0.1, kernel=rbf;, score=0.696 total time=   0.0s\n",
      "[CV 5/10] END ......C=10, gamma=0.1, kernel=rbf;, score=0.689 total time=   0.0s\n",
      "[CV 6/10] END ......C=10, gamma=0.1, kernel=rbf;, score=0.689 total time=   0.0s\n",
      "[CV 7/10] END ......C=10, gamma=0.1, kernel=rbf;, score=0.689 total time=   0.0s\n",
      "[CV 8/10] END ......C=10, gamma=0.1, kernel=rbf;, score=0.689 total time=   0.0s\n",
      "[CV 9/10] END ......C=10, gamma=0.1, kernel=rbf;, score=0.696 total time=   0.0s\n",
      "[CV 10/10] END .....C=10, gamma=0.1, kernel=rbf;, score=0.696 total time=   0.0s\n",
      "[CV 1/10] END .....C=10, gamma=0.01, kernel=rbf;, score=0.696 total time=   0.0s\n",
      "[CV 2/10] END .....C=10, gamma=0.01, kernel=rbf;, score=0.689 total time=   0.0s\n",
      "[CV 3/10] END .....C=10, gamma=0.01, kernel=rbf;, score=0.689 total time=   0.0s\n",
      "[CV 4/10] END .....C=10, gamma=0.01, kernel=rbf;, score=0.703 total time=   0.0s\n",
      "[CV 5/10] END .....C=10, gamma=0.01, kernel=rbf;, score=0.696 total time=   0.0s\n",
      "[CV 6/10] END .....C=10, gamma=0.01, kernel=rbf;, score=0.689 total time=   0.0s\n",
      "[CV 7/10] END .....C=10, gamma=0.01, kernel=rbf;, score=0.676 total time=   0.0s\n",
      "[CV 8/10] END .....C=10, gamma=0.01, kernel=rbf;, score=0.682 total time=   0.0s\n",
      "[CV 9/10] END .....C=10, gamma=0.01, kernel=rbf;, score=0.676 total time=   0.0s\n",
      "[CV 10/10] END ....C=10, gamma=0.01, kernel=rbf;, score=0.696 total time=   0.0s\n",
      "[CV 1/10] END ....C=10, gamma=0.001, kernel=rbf;, score=0.703 total time=   0.0s\n",
      "[CV 2/10] END ....C=10, gamma=0.001, kernel=rbf;, score=0.669 total time=   0.0s\n",
      "[CV 3/10] END ....C=10, gamma=0.001, kernel=rbf;, score=0.689 total time=   0.0s\n",
      "[CV 4/10] END ....C=10, gamma=0.001, kernel=rbf;, score=0.703 total time=   0.0s\n",
      "[CV 5/10] END ....C=10, gamma=0.001, kernel=rbf;, score=0.703 total time=   0.0s\n",
      "[CV 6/10] END ....C=10, gamma=0.001, kernel=rbf;, score=0.682 total time=   0.0s\n",
      "[CV 7/10] END ....C=10, gamma=0.001, kernel=rbf;, score=0.682 total time=   0.0s\n",
      "[CV 8/10] END ....C=10, gamma=0.001, kernel=rbf;, score=0.703 total time=   0.0s\n",
      "[CV 9/10] END ....C=10, gamma=0.001, kernel=rbf;, score=0.703 total time=   0.0s\n",
      "[CV 10/10] END ...C=10, gamma=0.001, kernel=rbf;, score=0.709 total time=   0.0s\n",
      "[CV 1/10] END ...C=10, gamma=0.0001, kernel=rbf;, score=0.662 total time=   0.0s\n",
      "[CV 2/10] END ...C=10, gamma=0.0001, kernel=rbf;, score=0.662 total time=   0.0s\n",
      "[CV 3/10] END ...C=10, gamma=0.0001, kernel=rbf;, score=0.655 total time=   0.0s\n",
      "[CV 4/10] END ...C=10, gamma=0.0001, kernel=rbf;, score=0.649 total time=   0.0s\n",
      "[CV 5/10] END ...C=10, gamma=0.0001, kernel=rbf;, score=0.662 total time=   0.0s\n",
      "[CV 6/10] END ...C=10, gamma=0.0001, kernel=rbf;, score=0.649 total time=   0.0s\n",
      "[CV 7/10] END ...C=10, gamma=0.0001, kernel=rbf;, score=0.655 total time=   0.0s\n",
      "[CV 8/10] END ...C=10, gamma=0.0001, kernel=rbf;, score=0.649 total time=   0.0s\n",
      "[CV 9/10] END ...C=10, gamma=0.0001, kernel=rbf;, score=0.608 total time=   0.0s\n",
      "[CV 10/10] END ..C=10, gamma=0.0001, kernel=rbf;, score=0.676 total time=   0.0s\n",
      "[CV 1/10] END .......C=100, gamma=1, kernel=rbf;, score=0.689 total time=   0.0s\n",
      "[CV 2/10] END .......C=100, gamma=1, kernel=rbf;, score=0.696 total time=   0.0s\n",
      "[CV 3/10] END .......C=100, gamma=1, kernel=rbf;, score=0.689 total time=   0.0s\n",
      "[CV 4/10] END .......C=100, gamma=1, kernel=rbf;, score=0.696 total time=   0.0s\n",
      "[CV 5/10] END .......C=100, gamma=1, kernel=rbf;, score=0.689 total time=   0.0s\n",
      "[CV 6/10] END .......C=100, gamma=1, kernel=rbf;, score=0.689 total time=   0.0s\n",
      "[CV 7/10] END .......C=100, gamma=1, kernel=rbf;, score=0.689 total time=   0.0s\n",
      "[CV 8/10] END .......C=100, gamma=1, kernel=rbf;, score=0.689 total time=   0.0s\n",
      "[CV 9/10] END .......C=100, gamma=1, kernel=rbf;, score=0.696 total time=   0.0s\n",
      "[CV 10/10] END ......C=100, gamma=1, kernel=rbf;, score=0.696 total time=   0.0s\n",
      "[CV 1/10] END .....C=100, gamma=0.1, kernel=rbf;, score=0.689 total time=   0.0s\n",
      "[CV 2/10] END .....C=100, gamma=0.1, kernel=rbf;, score=0.696 total time=   0.0s\n",
      "[CV 3/10] END .....C=100, gamma=0.1, kernel=rbf;, score=0.689 total time=   0.0s\n",
      "[CV 4/10] END .....C=100, gamma=0.1, kernel=rbf;, score=0.696 total time=   0.0s\n",
      "[CV 5/10] END .....C=100, gamma=0.1, kernel=rbf;, score=0.689 total time=   0.0s\n",
      "[CV 6/10] END .....C=100, gamma=0.1, kernel=rbf;, score=0.689 total time=   0.0s\n",
      "[CV 7/10] END .....C=100, gamma=0.1, kernel=rbf;, score=0.689 total time=   0.0s\n",
      "[CV 8/10] END .....C=100, gamma=0.1, kernel=rbf;, score=0.689 total time=   0.0s\n",
      "[CV 9/10] END .....C=100, gamma=0.1, kernel=rbf;, score=0.696 total time=   0.0s\n",
      "[CV 10/10] END ....C=100, gamma=0.1, kernel=rbf;, score=0.696 total time=   0.0s\n",
      "[CV 1/10] END ....C=100, gamma=0.01, kernel=rbf;, score=0.696 total time=   0.0s\n",
      "[CV 2/10] END ....C=100, gamma=0.01, kernel=rbf;, score=0.689 total time=   0.0s\n",
      "[CV 3/10] END ....C=100, gamma=0.01, kernel=rbf;, score=0.689 total time=   0.0s\n",
      "[CV 4/10] END ....C=100, gamma=0.01, kernel=rbf;, score=0.703 total time=   0.0s\n",
      "[CV 5/10] END ....C=100, gamma=0.01, kernel=rbf;, score=0.696 total time=   0.0s\n",
      "[CV 6/10] END ....C=100, gamma=0.01, kernel=rbf;, score=0.689 total time=   0.0s\n",
      "[CV 7/10] END ....C=100, gamma=0.01, kernel=rbf;, score=0.676 total time=   0.0s\n",
      "[CV 8/10] END ....C=100, gamma=0.01, kernel=rbf;, score=0.682 total time=   0.0s\n",
      "[CV 9/10] END ....C=100, gamma=0.01, kernel=rbf;, score=0.676 total time=   0.0s\n",
      "[CV 10/10] END ...C=100, gamma=0.01, kernel=rbf;, score=0.696 total time=   0.0s\n",
      "[CV 1/10] END ...C=100, gamma=0.001, kernel=rbf;, score=0.703 total time=   0.0s\n",
      "[CV 2/10] END ...C=100, gamma=0.001, kernel=rbf;, score=0.669 total time=   0.0s\n",
      "[CV 3/10] END ...C=100, gamma=0.001, kernel=rbf;, score=0.689 total time=   0.0s\n",
      "[CV 4/10] END ...C=100, gamma=0.001, kernel=rbf;, score=0.703 total time=   0.0s\n",
      "[CV 5/10] END ...C=100, gamma=0.001, kernel=rbf;, score=0.703 total time=   0.0s\n",
      "[CV 6/10] END ...C=100, gamma=0.001, kernel=rbf;, score=0.682 total time=   0.0s\n",
      "[CV 7/10] END ...C=100, gamma=0.001, kernel=rbf;, score=0.689 total time=   0.0s\n",
      "[CV 8/10] END ...C=100, gamma=0.001, kernel=rbf;, score=0.703 total time=   0.0s\n",
      "[CV 9/10] END ...C=100, gamma=0.001, kernel=rbf;, score=0.703 total time=   0.0s\n",
      "[CV 10/10] END ..C=100, gamma=0.001, kernel=rbf;, score=0.716 total time=   0.0s\n",
      "[CV 1/10] END ..C=100, gamma=0.0001, kernel=rbf;, score=0.662 total time=   0.0s\n",
      "[CV 2/10] END ..C=100, gamma=0.0001, kernel=rbf;, score=0.662 total time=   0.0s\n",
      "[CV 3/10] END ..C=100, gamma=0.0001, kernel=rbf;, score=0.642 total time=   0.0s\n",
      "[CV 4/10] END ..C=100, gamma=0.0001, kernel=rbf;, score=0.655 total time=   0.0s\n",
      "[CV 5/10] END ..C=100, gamma=0.0001, kernel=rbf;, score=0.655 total time=   0.0s\n",
      "[CV 6/10] END ..C=100, gamma=0.0001, kernel=rbf;, score=0.642 total time=   0.0s\n",
      "[CV 7/10] END ..C=100, gamma=0.0001, kernel=rbf;, score=0.676 total time=   0.0s\n",
      "[CV 8/10] END ..C=100, gamma=0.0001, kernel=rbf;, score=0.662 total time=   0.0s\n",
      "[CV 9/10] END ..C=100, gamma=0.0001, kernel=rbf;, score=0.615 total time=   0.0s\n",
      "[CV 10/10] END .C=100, gamma=0.0001, kernel=rbf;, score=0.682 total time=   0.0s\n",
      "[CV 1/10] END ......C=1000, gamma=1, kernel=rbf;, score=0.689 total time=   0.0s\n",
      "[CV 2/10] END ......C=1000, gamma=1, kernel=rbf;, score=0.696 total time=   0.0s\n",
      "[CV 3/10] END ......C=1000, gamma=1, kernel=rbf;, score=0.689 total time=   0.0s\n",
      "[CV 4/10] END ......C=1000, gamma=1, kernel=rbf;, score=0.696 total time=   0.0s\n",
      "[CV 5/10] END ......C=1000, gamma=1, kernel=rbf;, score=0.689 total time=   0.0s\n",
      "[CV 6/10] END ......C=1000, gamma=1, kernel=rbf;, score=0.689 total time=   0.0s\n",
      "[CV 7/10] END ......C=1000, gamma=1, kernel=rbf;, score=0.689 total time=   0.0s\n",
      "[CV 8/10] END ......C=1000, gamma=1, kernel=rbf;, score=0.689 total time=   0.0s\n",
      "[CV 9/10] END ......C=1000, gamma=1, kernel=rbf;, score=0.696 total time=   0.0s\n",
      "[CV 10/10] END .....C=1000, gamma=1, kernel=rbf;, score=0.696 total time=   0.0s\n",
      "[CV 1/10] END ....C=1000, gamma=0.1, kernel=rbf;, score=0.689 total time=   0.0s\n",
      "[CV 2/10] END ....C=1000, gamma=0.1, kernel=rbf;, score=0.696 total time=   0.0s\n",
      "[CV 3/10] END ....C=1000, gamma=0.1, kernel=rbf;, score=0.689 total time=   0.0s\n",
      "[CV 4/10] END ....C=1000, gamma=0.1, kernel=rbf;, score=0.696 total time=   0.0s\n",
      "[CV 5/10] END ....C=1000, gamma=0.1, kernel=rbf;, score=0.689 total time=   0.0s\n",
      "[CV 6/10] END ....C=1000, gamma=0.1, kernel=rbf;, score=0.689 total time=   0.0s\n",
      "[CV 7/10] END ....C=1000, gamma=0.1, kernel=rbf;, score=0.689 total time=   0.0s\n",
      "[CV 8/10] END ....C=1000, gamma=0.1, kernel=rbf;, score=0.689 total time=   0.0s\n",
      "[CV 9/10] END ....C=1000, gamma=0.1, kernel=rbf;, score=0.696 total time=   0.0s\n",
      "[CV 10/10] END ...C=1000, gamma=0.1, kernel=rbf;, score=0.696 total time=   0.0s\n",
      "[CV 1/10] END ...C=1000, gamma=0.01, kernel=rbf;, score=0.696 total time=   0.0s\n",
      "[CV 2/10] END ...C=1000, gamma=0.01, kernel=rbf;, score=0.689 total time=   0.0s\n",
      "[CV 3/10] END ...C=1000, gamma=0.01, kernel=rbf;, score=0.689 total time=   0.0s\n",
      "[CV 4/10] END ...C=1000, gamma=0.01, kernel=rbf;, score=0.703 total time=   0.0s\n",
      "[CV 5/10] END ...C=1000, gamma=0.01, kernel=rbf;, score=0.696 total time=   0.0s\n",
      "[CV 6/10] END ...C=1000, gamma=0.01, kernel=rbf;, score=0.689 total time=   0.0s\n",
      "[CV 7/10] END ...C=1000, gamma=0.01, kernel=rbf;, score=0.676 total time=   0.0s\n",
      "[CV 8/10] END ...C=1000, gamma=0.01, kernel=rbf;, score=0.682 total time=   0.0s\n",
      "[CV 9/10] END ...C=1000, gamma=0.01, kernel=rbf;, score=0.676 total time=   0.0s\n",
      "[CV 10/10] END ..C=1000, gamma=0.01, kernel=rbf;, score=0.696 total time=   0.0s\n",
      "[CV 1/10] END ..C=1000, gamma=0.001, kernel=rbf;, score=0.703 total time=   0.0s\n",
      "[CV 2/10] END ..C=1000, gamma=0.001, kernel=rbf;, score=0.669 total time=   0.0s\n",
      "[CV 3/10] END ..C=1000, gamma=0.001, kernel=rbf;, score=0.689 total time=   0.0s\n",
      "[CV 4/10] END ..C=1000, gamma=0.001, kernel=rbf;, score=0.703 total time=   0.0s\n",
      "[CV 5/10] END ..C=1000, gamma=0.001, kernel=rbf;, score=0.703 total time=   0.0s\n",
      "[CV 6/10] END ..C=1000, gamma=0.001, kernel=rbf;, score=0.682 total time=   0.0s\n",
      "[CV 7/10] END ..C=1000, gamma=0.001, kernel=rbf;, score=0.689 total time=   0.0s\n",
      "[CV 8/10] END ..C=1000, gamma=0.001, kernel=rbf;, score=0.703 total time=   0.0s\n",
      "[CV 9/10] END ..C=1000, gamma=0.001, kernel=rbf;, score=0.703 total time=   0.0s\n",
      "[CV 10/10] END .C=1000, gamma=0.001, kernel=rbf;, score=0.716 total time=   0.0s\n",
      "[CV 1/10] END .C=1000, gamma=0.0001, kernel=rbf;, score=0.662 total time=   0.0s\n",
      "[CV 2/10] END .C=1000, gamma=0.0001, kernel=rbf;, score=0.655 total time=   0.0s\n",
      "[CV 3/10] END .C=1000, gamma=0.0001, kernel=rbf;, score=0.642 total time=   0.0s\n",
      "[CV 4/10] END .C=1000, gamma=0.0001, kernel=rbf;, score=0.676 total time=   0.0s\n",
      "[CV 5/10] END .C=1000, gamma=0.0001, kernel=rbf;, score=0.669 total time=   0.0s\n",
      "[CV 6/10] END .C=1000, gamma=0.0001, kernel=rbf;, score=0.642 total time=   0.0s\n",
      "[CV 7/10] END .C=1000, gamma=0.0001, kernel=rbf;, score=0.655 total time=   0.0s\n",
      "[CV 8/10] END .C=1000, gamma=0.0001, kernel=rbf;, score=0.649 total time=   0.0s\n",
      "[CV 9/10] END .C=1000, gamma=0.0001, kernel=rbf;, score=0.628 total time=   0.0s\n",
      "[CV 10/10] END C=1000, gamma=0.0001, kernel=rbf;, score=0.682 total time=   0.0s\n"
     ]
    },
    {
     "data": {
      "text/plain": [
       "GridSearchCV(cv=StratifiedShuffleSplit(n_splits=10, random_state=15, test_size=0.3,\n",
       "            train_size=None),\n",
       "             estimator=SVC(),\n",
       "             param_grid={'C': [0.1, 1, 10, 100, 1000],\n",
       "                         'gamma': [1, 0.1, 0.01, 0.001, 0.0001],\n",
       "                         'kernel': ['rbf']},\n",
       "             verbose=3)"
      ]
     },
     "execution_count": 37,
     "metadata": {},
     "output_type": "execute_result"
    }
   ],
   "source": [
    "from sklearn.svm import SVC\n",
    "from sklearn.model_selection import GridSearchCV\n",
    " \n",
    "# defining parameter range\n",
    "param_grid = {'C': [0.1, 1, 10, 100, 1000],\n",
    "              'gamma': [1, 0.1, 0.01, 0.001, 0.0001],\n",
    "              'kernel': ['rbf']} # 'precomputed','sigmoid','linear','poly','rbf'\n",
    "\n",
    "cv = StratifiedShuffleSplit(n_splits=10, test_size=.30, random_state=15)\n",
    "grid_svc = GridSearchCV(SVC(), param_grid, refit = True, verbose = 3,cv=cv)\n",
    " \n",
    "# fitting the model for grid search\n",
    "grid_svc.fit(X_train, y_train)"
   ]
  },
  {
   "cell_type": "code",
   "execution_count": 38,
   "id": "102e1a9a",
   "metadata": {
    "execution": {
     "iopub.execute_input": "2024-09-30T07:20:49.306040Z",
     "iopub.status.busy": "2024-09-30T07:20:49.305584Z",
     "iopub.status.idle": "2024-09-30T07:20:49.313200Z",
     "shell.execute_reply": "2024-09-30T07:20:49.311531Z"
    },
    "papermill": {
     "duration": 0.051,
     "end_time": "2024-09-30T07:20:49.316041",
     "exception": false,
     "start_time": "2024-09-30T07:20:49.265041",
     "status": "completed"
    },
    "tags": []
   },
   "outputs": [
    {
     "name": "stdout",
     "output_type": "stream",
     "text": [
      "0.7013513513513514\n",
      "{'C': 1, 'gamma': 0.001, 'kernel': 'rbf'}\n",
      "SVC(C=1, gamma=0.001)\n"
     ]
    }
   ],
   "source": [
    "print (grid_svc.best_score_)\n",
    "print (grid_svc.best_params_)\n",
    "print (grid_svc.best_estimator_)"
   ]
  },
  {
   "cell_type": "code",
   "execution_count": 39,
   "id": "fa06d42d",
   "metadata": {
    "execution": {
     "iopub.execute_input": "2024-09-30T07:20:49.395745Z",
     "iopub.status.busy": "2024-09-30T07:20:49.395255Z",
     "iopub.status.idle": "2024-09-30T07:20:49.668032Z",
     "shell.execute_reply": "2024-09-30T07:20:49.666839Z"
    },
    "papermill": {
     "duration": 0.315547,
     "end_time": "2024-09-30T07:20:49.670666",
     "exception": false,
     "start_time": "2024-09-30T07:20:49.355119",
     "status": "completed"
    },
    "tags": []
   },
   "outputs": [
    {
     "name": "stdout",
     "output_type": "stream",
     "text": [
      "Training Accuracy with GridSearch : 97.96 %\n",
      "Model Accuracy with GridSearch    : 98.0 %\n",
      "\u001b[1m--------------------------------------------------------\u001b[0m\n"
     ]
    },
    {
     "data": {
      "image/png": "[encoded data removed]",
      "text/plain": [
       "<Figure size 432x288 with 2 Axes>"
      ]
     },
     "metadata": {
      "needs_background": "light"
     },
     "output_type": "display_data"
    }
   ],
   "source": [
    "### Using the best parameters from the grid-search.\n",
    "svc_grid = grid_svc.best_estimator_\n",
    "\n",
    "svc_train_grid = round(svc_grid.score(X_train, y_train) * 100, 2)\n",
    "svc_accuracy_grid = svc_grid.score(X_train,y_train).round(2)*100\n",
    "\n",
    "print(\"Training Accuracy with GridSearch :\",svc_train_grid  ,\"%\")\n",
    "print(\"Model Accuracy with GridSearch    :\",svc_accuracy_grid ,\"%\")\n",
    "print(\"\\033[1m--------------------------------------------------------\\033[0m\")\n",
    "\n",
    "plot_confusion_matrix(grid_svc, X_test, y_test);\n",
    "plt.title('Confusion Matrix');"
   ]
  },
  {
   "cell_type": "markdown",
   "id": "c6bb14cd",
   "metadata": {
    "papermill": {
     "duration": 0.039933,
     "end_time": "2024-09-30T07:20:49.749637",
     "exception": false,
     "start_time": "2024-09-30T07:20:49.709704",
     "status": "completed"
    },
    "tags": []
   },
   "source": [
    "<h1 style=\"color:#5642C5;font-size:45px;font-family:Georgia;text-align:center;\">  🎲  <strong style=\"color:Red;font-size:40px;font-family:serif;\"> RandomForestClassifier </strong> 🎲  </h1>"
   ]
  },
  {
   "cell_type": "code",
   "execution_count": 40,
   "id": "8f998af5",
   "metadata": {
    "execution": {
     "iopub.execute_input": "2024-09-30T07:20:49.829248Z",
     "iopub.status.busy": "2024-09-30T07:20:49.828749Z",
     "iopub.status.idle": "2024-09-30T07:20:50.378999Z",
     "shell.execute_reply": "2024-09-30T07:20:50.377786Z"
    },
    "papermill": {
     "duration": 0.593176,
     "end_time": "2024-09-30T07:20:50.381671",
     "exception": false,
     "start_time": "2024-09-30T07:20:49.788495",
     "status": "completed"
    },
    "tags": []
   },
   "outputs": [
    {
     "name": "stdout",
     "output_type": "stream",
     "text": [
      "Training Accuracy    : 100.0 %\n",
      "Model Accuracy Score : 78.05 %\n",
      "\u001b[1m--------------------------------------------------------\u001b[0m\n"
     ]
    },
    {
     "data": {
      "image/png": "[encoded data removed]",
      "text/plain": [
       "<Figure size 432x288 with 2 Axes>"
      ]
     },
     "metadata": {
      "needs_background": "light"
     },
     "output_type": "display_data"
    }
   ],
   "source": [
    "# Random Forest\n",
    "from sklearn.ensemble import RandomForestClassifier\n",
    "random_forest = RandomForestClassifier()\n",
    "random_forest.fit(X_train, y_train)\n",
    "y_pred_rf = random_forest.predict(X_test)\n",
    "random_forest.score(X_train, y_train)\n",
    "\n",
    "random_forest_train = round(random_forest.score(X_train, y_train) * 100, 2)\n",
    "random_forest_accuracy = round(accuracy_score(y_pred_rf, y_test) * 100, 2)\n",
    "\n",
    "print(\"Training Accuracy    :\",random_forest_train ,\"%\")\n",
    "print(\"Model Accuracy Score :\",random_forest_accuracy ,\"%\")\n",
    "print(\"\\033[1m--------------------------------------------------------\\033[0m\")\n",
    "plot_confusion_matrix(random_forest, X_test, y_test);\n",
    "plt.title('Confusion Matrix');"
   ]
  },
  {
   "cell_type": "markdown",
   "id": "230a5f6e",
   "metadata": {
    "papermill": {
     "duration": 0.040568,
     "end_time": "2024-09-30T07:20:50.461632",
     "exception": false,
     "start_time": "2024-09-30T07:20:50.421064",
     "status": "completed"
    },
    "tags": []
   },
   "source": [
    "<span class=\"label label-default\" style=\"background-color:#DC1010; border-radius:12px; font-weight: bold; font-family:Verdana; font-size:28px; color:#FBFAFC; \">RandomForestClassifier GridSearchCV 📊📈</span>"
   ]
  },
  {
   "cell_type": "code",
   "execution_count": 41,
   "id": "376dc2c8",
   "metadata": {
    "execution": {
     "iopub.execute_input": "2024-09-30T07:20:50.542763Z",
     "iopub.status.busy": "2024-09-30T07:20:50.541729Z",
     "iopub.status.idle": "2024-09-30T07:24:00.442941Z",
     "shell.execute_reply": "2024-09-30T07:24:00.441517Z"
    },
    "papermill": {
     "duration": 189.983991,
     "end_time": "2024-09-30T07:24:00.484574",
     "exception": false,
     "start_time": "2024-09-30T07:20:50.500583",
     "status": "completed"
    },
    "tags": []
   },
   "outputs": [
    {
     "data": {
      "text/plain": [
       "GridSearchCV(cv=10, estimator=RandomForestClassifier(),\n",
       "             param_grid={'max_depth': [2, 5, 7, 9, 10],\n",
       "                         'n_estimators': [10, 50, 100, 500, 1000]})"
      ]
     },
     "execution_count": 41,
     "metadata": {},
     "output_type": "execute_result"
    }
   ],
   "source": [
    "from sklearn.model_selection import train_test_split, GridSearchCV\n",
    "from sklearn.ensemble import RandomForestClassifier\n",
    "from sklearn.metrics import confusion_matrix,accuracy_score\n",
    "\n",
    "rf = RandomForestClassifier()\n",
    "param_grid = {\n",
    "                 'n_estimators': [10, 50, 100, 500, 1000],\n",
    "                 'max_depth': [2, 5, 7, 9, 10]\n",
    "             }\n",
    "grid_rf = GridSearchCV(rf, param_grid, cv=10)\n",
    "grid_rf.fit(X_train, y_train)"
   ]
  },
  {
   "cell_type": "code",
   "execution_count": 42,
   "id": "d2c9d8ce",
   "metadata": {
    "execution": {
     "iopub.execute_input": "2024-09-30T07:24:00.565856Z",
     "iopub.status.busy": "2024-09-30T07:24:00.565402Z",
     "iopub.status.idle": "2024-09-30T07:24:00.572787Z",
     "shell.execute_reply": "2024-09-30T07:24:00.571600Z"
    },
    "papermill": {
     "duration": 0.051037,
     "end_time": "2024-09-30T07:24:00.575437",
     "exception": false,
     "start_time": "2024-09-30T07:24:00.524400",
     "status": "completed"
    },
    "tags": []
   },
   "outputs": [
    {
     "name": "stdout",
     "output_type": "stream",
     "text": [
      "0.7983265306122448\n",
      "{'max_depth': 2, 'n_estimators': 500}\n",
      "RandomForestClassifier(max_depth=2, n_estimators=500)\n"
     ]
    }
   ],
   "source": [
    "print (grid_rf.best_score_)\n",
    "print (grid_rf.best_params_)\n",
    "print (grid_rf.best_estimator_)"
   ]
  },
  {
   "cell_type": "code",
   "execution_count": 43,
   "id": "fc749f34",
   "metadata": {
    "execution": {
     "iopub.execute_input": "2024-09-30T07:24:00.658479Z",
     "iopub.status.busy": "2024-09-30T07:24:00.658010Z",
     "iopub.status.idle": "2024-09-30T07:24:01.190171Z",
     "shell.execute_reply": "2024-09-30T07:24:01.188590Z"
    },
    "papermill": {
     "duration": 0.577396,
     "end_time": "2024-09-30T07:24:01.193241",
     "exception": false,
     "start_time": "2024-09-30T07:24:00.615845",
     "status": "completed"
    },
    "tags": []
   },
   "outputs": [
    {
     "name": "stdout",
     "output_type": "stream",
     "text": [
      "Training Accuracy with GridSearch : 79.84 %\n",
      "Model Accuracy with GridSearch    : 80.0 %\n",
      "\u001b[1m--------------------------------------------------------\u001b[0m\n"
     ]
    },
    {
     "data": {
      "image/png": "[encoded data removed]",
      "text/plain": [
       "<Figure size 432x288 with 2 Axes>"
      ]
     },
     "metadata": {
      "needs_background": "light"
     },
     "output_type": "display_data"
    }
   ],
   "source": [
    "### Using the best parameters from the grid-search.\n",
    "rf_grid = grid_rf.best_estimator_\n",
    "\n",
    "rf_train_grid = round(rf_grid.score(X_train, y_train) * 100, 2)\n",
    "rf_accuracy_grid = rf_grid.score(X_train,y_train).round(2)*100\n",
    "\n",
    "print(\"Training Accuracy with GridSearch :\",rf_train_grid  ,\"%\")\n",
    "print(\"Model Accuracy with GridSearch    :\",rf_accuracy_grid ,\"%\")\n",
    "print(\"\\033[1m--------------------------------------------------------\\033[0m\")\n",
    "\n",
    "plot_confusion_matrix(rf_grid, X_test, y_test);\n",
    "plt.title('Confusion Matrix');"
   ]
  },
  {
   "cell_type": "markdown",
   "id": "f00b8e42",
   "metadata": {
    "papermill": {
     "duration": 0.040441,
     "end_time": "2024-09-30T07:24:01.276009",
     "exception": false,
     "start_time": "2024-09-30T07:24:01.235568",
     "status": "completed"
    },
    "tags": []
   },
   "source": [
    "<h1 style=\"color:#5642C5;font-size:45px;font-family:Georgia;text-align:center;\">  🎲  <strong style=\"color:Red;font-size:40px;font-family:serif;\"> BaggingClassifier </strong> 🎲  </h1>"
   ]
  },
  {
   "cell_type": "code",
   "execution_count": 44,
   "id": "cc23cb15",
   "metadata": {
    "execution": {
     "iopub.execute_input": "2024-09-30T07:24:01.358751Z",
     "iopub.status.busy": "2024-09-30T07:24:01.358300Z",
     "iopub.status.idle": "2024-09-30T07:24:01.690160Z",
     "shell.execute_reply": "2024-09-30T07:24:01.688680Z"
    },
    "papermill": {
     "duration": 0.377081,
     "end_time": "2024-09-30T07:24:01.693198",
     "exception": false,
     "start_time": "2024-09-30T07:24:01.316117",
     "status": "completed"
    },
    "tags": []
   },
   "outputs": [
    {
     "name": "stdout",
     "output_type": "stream",
     "text": [
      "Training Accuracy    : 98.37 %\n",
      "Model Accuracy Score : 77.24 %\n",
      "\u001b[1m--------------------------------------------------------\u001b[0m\n"
     ]
    },
    {
     "data": {
      "image/png": "[encoded data removed]",
      "text/plain": [
       "<Figure size 432x288 with 2 Axes>"
      ]
     },
     "metadata": {
      "needs_background": "light"
     },
     "output_type": "display_data"
    }
   ],
   "source": [
    "from sklearn.ensemble import BaggingClassifier\n",
    "Bag = BaggingClassifier()\n",
    "Bag.fit(X_train,y_train)\n",
    "y_pred_Bag = Bag.predict(X_test)\n",
    "\n",
    "\n",
    "Bag_train = round(Bag.score(X_train, y_train) * 100, 2)\n",
    "Bag_accuracy = round(accuracy_score(y_pred_Bag, y_test) * 100, 2)\n",
    "\n",
    "print(\"Training Accuracy    :\",Bag_train ,\"%\")\n",
    "print(\"Model Accuracy Score :\",Bag_accuracy ,\"%\")\n",
    "print(\"\\033[1m--------------------------------------------------------\\033[0m\")\n",
    "plot_confusion_matrix(Bag, X_test, y_test);\n",
    "plt.title('Confusion Matrix');"
   ]
  },
  {
   "cell_type": "markdown",
   "id": "2671bbdf",
   "metadata": {
    "papermill": {
     "duration": 0.040602,
     "end_time": "2024-09-30T07:24:01.776386",
     "exception": false,
     "start_time": "2024-09-30T07:24:01.735784",
     "status": "completed"
    },
    "tags": []
   },
   "source": [
    "<span class=\"label label-default\" style=\"background-color:#DC1010; border-radius:12px; font-weight: bold; font-family:Verdana; font-size:28px; color:#FBFAFC; \">BaggingClassifier GridSearchCV 📊📈</span>"
   ]
  },
  {
   "cell_type": "code",
   "execution_count": 45,
   "id": "362eb50d",
   "metadata": {
    "execution": {
     "iopub.execute_input": "2024-09-30T07:24:01.859945Z",
     "iopub.status.busy": "2024-09-30T07:24:01.859474Z",
     "iopub.status.idle": "2024-09-30T07:24:17.243144Z",
     "shell.execute_reply": "2024-09-30T07:24:17.241907Z"
    },
    "papermill": {
     "duration": 15.428981,
     "end_time": "2024-09-30T07:24:17.245873",
     "exception": false,
     "start_time": "2024-09-30T07:24:01.816892",
     "status": "completed"
    },
    "tags": []
   },
   "outputs": [
    {
     "data": {
      "text/plain": [
       "GridSearchCV(cv=StratifiedShuffleSplit(n_splits=10, random_state=15, test_size=0.3,\n",
       "            train_size=None),\n",
       "             estimator=BaggingClassifier(), n_jobs=-1,\n",
       "             param_grid={'n_estimators': [10, 30, 50, 70, 80, 150, 160, 170,\n",
       "                                          175, 180, 185]})"
      ]
     },
     "execution_count": 45,
     "metadata": {},
     "output_type": "execute_result"
    }
   ],
   "source": [
    "from sklearn.ensemble import BaggingClassifier\n",
    "n_estimators = [10,30,50,70,80,150,160, 170,175,180,185];\n",
    "cv = StratifiedShuffleSplit(n_splits=10, test_size=.30, random_state=15)\n",
    "\n",
    "parameters = {'n_estimators':n_estimators,\n",
    "              \n",
    "        }\n",
    "grid_bagg = GridSearchCV(BaggingClassifier(base_estimator= None, ## If None, then the base estimator is a decision tree.\n",
    "                                      bootstrap_features=False),\n",
    "                                 param_grid=parameters,\n",
    "                                 cv=cv,\n",
    "                                 n_jobs = -1)\n",
    "grid_bagg.fit(X_train,y_train) "
   ]
  },
  {
   "cell_type": "code",
   "execution_count": 46,
   "id": "03b5f5b4",
   "metadata": {
    "execution": {
     "iopub.execute_input": "2024-09-30T07:24:17.332994Z",
     "iopub.status.busy": "2024-09-30T07:24:17.332525Z",
     "iopub.status.idle": "2024-09-30T07:24:17.339873Z",
     "shell.execute_reply": "2024-09-30T07:24:17.338593Z"
    },
    "papermill": {
     "duration": 0.054535,
     "end_time": "2024-09-30T07:24:17.343196",
     "exception": false,
     "start_time": "2024-09-30T07:24:17.288661",
     "status": "completed"
    },
    "tags": []
   },
   "outputs": [
    {
     "name": "stdout",
     "output_type": "stream",
     "text": [
      "0.7621621621621621\n",
      "{'n_estimators': 30}\n",
      "BaggingClassifier(n_estimators=30)\n"
     ]
    }
   ],
   "source": [
    "print (grid_bagg.best_score_)\n",
    "print (grid_bagg.best_params_)\n",
    "print (grid_bagg.best_estimator_)"
   ]
  },
  {
   "cell_type": "code",
   "execution_count": 47,
   "id": "a18ee4c4",
   "metadata": {
    "execution": {
     "iopub.execute_input": "2024-09-30T07:24:17.428274Z",
     "iopub.status.busy": "2024-09-30T07:24:17.427794Z",
     "iopub.status.idle": "2024-09-30T07:24:17.729513Z",
     "shell.execute_reply": "2024-09-30T07:24:17.727786Z"
    },
    "papermill": {
     "duration": 0.347559,
     "end_time": "2024-09-30T07:24:17.732251",
     "exception": false,
     "start_time": "2024-09-30T07:24:17.384692",
     "status": "completed"
    },
    "tags": []
   },
   "outputs": [
    {
     "name": "stdout",
     "output_type": "stream",
     "text": [
      "Training Accuracy with GridSearch : 100.0 %\n",
      "Model Accuracy with GridSearch    : 100.0 %\n",
      "\u001b[1m--------------------------------------------------------\u001b[0m\n"
     ]
    },
    {
     "data": {
      "image/png": "[encoded data removed]",
      "text/plain": [
       "<Figure size 432x288 with 2 Axes>"
      ]
     },
     "metadata": {
      "needs_background": "light"
     },
     "output_type": "display_data"
    }
   ],
   "source": [
    "### Using the best parameters from the grid-search.\n",
    "bagg_grid = grid_bagg.best_estimator_\n",
    "\n",
    "bagg_train_grid = round(bagg_grid.score(X_train, y_train) * 100, 2)\n",
    "bagg_accuracy_grid = bagg_grid.score(X_train,y_train).round(2)*100\n",
    "\n",
    "print(\"Training Accuracy with GridSearch :\",bagg_train_grid  ,\"%\")\n",
    "print(\"Model Accuracy with GridSearch    :\",bagg_accuracy_grid ,\"%\")\n",
    "print(\"\\033[1m--------------------------------------------------------\\033[0m\")\n",
    "\n",
    "plot_confusion_matrix(bagg_grid, X_test, y_test);\n",
    "plt.title('Confusion Matrix');"
   ]
  },
  {
   "cell_type": "markdown",
   "id": "c04f5f09",
   "metadata": {
    "papermill": {
     "duration": 0.040925,
     "end_time": "2024-09-30T07:24:17.816166",
     "exception": false,
     "start_time": "2024-09-30T07:24:17.775241",
     "status": "completed"
    },
    "tags": []
   },
   "source": [
    "<div style=\"color:white;background-color:#5642C5;padding:3%;border-radius:110px 110px;font-size:2.5em;text-align:center\">Comparing Models 📚</div>"
   ]
  },
  {
   "cell_type": "code",
   "execution_count": 48,
   "id": "f0cf2fc9",
   "metadata": {
    "execution": {
     "iopub.execute_input": "2024-09-30T07:24:17.901658Z",
     "iopub.status.busy": "2024-09-30T07:24:17.900622Z",
     "iopub.status.idle": "2024-09-30T07:24:17.910050Z",
     "shell.execute_reply": "2024-09-30T07:24:17.908682Z"
    },
    "papermill": {
     "duration": 0.054971,
     "end_time": "2024-09-30T07:24:17.912694",
     "exception": false,
     "start_time": "2024-09-30T07:24:17.857723",
     "status": "completed"
    },
    "tags": []
   },
   "outputs": [],
   "source": [
    "models = pd.DataFrame({\n",
    "    'Model': [\n",
    "        'Logistic Regression','Decision Tree','KNN', 'AdaBoostClassifier', 'GradientBoostingClassifier',\n",
    "        'Support Vector Machines','Random Forest', 'BaggingClassifier'\n",
    "        \n",
    "    ],\n",
    "    \n",
    "    'Model Accuracy Score': [\n",
    "        log_accuracy, decision_accuracy, knn_accuracy,ada_accuracy,gbc_accuracy, svc_accuracy,\n",
    "        random_forest_accuracy,Bag_accuracy\n",
    "    ],\n",
    "    'Model Accuracy with GridSearch': [\n",
    "        log_accuracy_grid, decision_accuracy_grid, knn_accuracy_grid,ada_accuracy_grid,gbc_accuracy_grid, svc_accuracy_grid,\n",
    "        rf_accuracy_grid,bagg_accuracy_grid\n",
    "    ]\n",
    "})"
   ]
  },
  {
   "cell_type": "markdown",
   "id": "cb24f7d5",
   "metadata": {
    "papermill": {
     "duration": 0.040998,
     "end_time": "2024-09-30T07:24:17.995628",
     "exception": false,
     "start_time": "2024-09-30T07:24:17.954630",
     "status": "completed"
    },
    "tags": []
   },
   "source": [
    "<span class=\"label label-default\" style=\"background-color:#DC1010; border-radius:12px; font-weight: bold; font-family:Verdana; font-size:28px; color:#FBFAFC; \">Comparing Models Result </span>"
   ]
  },
  {
   "cell_type": "code",
   "execution_count": 49,
   "id": "3ee8a9d8",
   "metadata": {
    "execution": {
     "iopub.execute_input": "2024-09-30T07:24:18.079834Z",
     "iopub.status.busy": "2024-09-30T07:24:18.079374Z",
     "iopub.status.idle": "2024-09-30T07:24:18.106424Z",
     "shell.execute_reply": "2024-09-30T07:24:18.105070Z"
    },
    "papermill": {
     "duration": 0.072831,
     "end_time": "2024-09-30T07:24:18.109664",
     "exception": false,
     "start_time": "2024-09-30T07:24:18.036833",
     "status": "completed"
    },
    "tags": []
   },
   "outputs": [
    {
     "data": {
      "text/html": [
       "<style type=\"text/css\">\n",
       "#T_42b69_row0_col0, #T_42b69_row1_col0, #T_42b69_row2_col0, #T_42b69_row3_col0, #T_42b69_row4_col0, #T_42b69_row5_col0, #T_42b69_row6_col0, #T_42b69_row7_col0 {\n",
       "  font-family: Lucida Calligraphy;\n",
       "  color: LigntGreen;\n",
       "  font-size: 15px;\n",
       "}\n",
       "#T_42b69_row0_col1, #T_42b69_row2_col2 {\n",
       "  background-color: #b40426;\n",
       "  color: #f1f1f1;\n",
       "  font-family: Lucida Calligraphy;\n",
       "  color: LigntGreen;\n",
       "  font-size: 15px;\n",
       "}\n",
       "#T_42b69_row0_col2, #T_42b69_row1_col2, #T_42b69_row3_col2, #T_42b69_row5_col2 {\n",
       "  background-color: #b1cbfc;\n",
       "  color: #000000;\n",
       "  font-family: Lucida Calligraphy;\n",
       "  color: LigntGreen;\n",
       "  font-size: 15px;\n",
       "}\n",
       "#T_42b69_row1_col1 {\n",
       "  background-color: #ec8165;\n",
       "  color: #f1f1f1;\n",
       "  font-family: Lucida Calligraphy;\n",
       "  color: LigntGreen;\n",
       "  font-size: 15px;\n",
       "}\n",
       "#T_42b69_row2_col1 {\n",
       "  background-color: #f29274;\n",
       "  color: #f1f1f1;\n",
       "  font-family: Lucida Calligraphy;\n",
       "  color: LigntGreen;\n",
       "  font-size: 15px;\n",
       "}\n",
       "#T_42b69_row3_col1 {\n",
       "  background-color: #f5a081;\n",
       "  color: #000000;\n",
       "  font-family: Lucida Calligraphy;\n",
       "  color: LigntGreen;\n",
       "  font-size: 15px;\n",
       "}\n",
       "#T_42b69_row4_col1 {\n",
       "  background-color: #f7af91;\n",
       "  color: #000000;\n",
       "  font-family: Lucida Calligraphy;\n",
       "  color: LigntGreen;\n",
       "  font-size: 15px;\n",
       "}\n",
       "#T_42b69_row4_col2 {\n",
       "  background-color: #c0282f;\n",
       "  color: #f1f1f1;\n",
       "  font-family: Lucida Calligraphy;\n",
       "  color: LigntGreen;\n",
       "  font-size: 15px;\n",
       "}\n",
       "#T_42b69_row5_col1 {\n",
       "  background-color: #f3c7b1;\n",
       "  color: #000000;\n",
       "  font-family: Lucida Calligraphy;\n",
       "  color: LigntGreen;\n",
       "  font-size: 15px;\n",
       "}\n",
       "#T_42b69_row6_col1 {\n",
       "  background-color: #bbd1f8;\n",
       "  color: #000000;\n",
       "  font-family: Lucida Calligraphy;\n",
       "  color: LigntGreen;\n",
       "  font-size: 15px;\n",
       "}\n",
       "#T_42b69_row6_col2 {\n",
       "  background-color: #cb3e38;\n",
       "  color: #f1f1f1;\n",
       "  font-family: Lucida Calligraphy;\n",
       "  color: LigntGreen;\n",
       "  font-size: 15px;\n",
       "}\n",
       "#T_42b69_row7_col1, #T_42b69_row7_col2 {\n",
       "  background-color: #3b4cc0;\n",
       "  color: #f1f1f1;\n",
       "  font-family: Lucida Calligraphy;\n",
       "  color: LigntGreen;\n",
       "  font-size: 15px;\n",
       "}\n",
       "</style>\n",
       "<table id=\"T_42b69_\">\n",
       "  <thead>\n",
       "    <tr>\n",
       "      <th class=\"col_heading level0 col0\" >Model</th>\n",
       "      <th class=\"col_heading level0 col1\" >Model Accuracy Score</th>\n",
       "      <th class=\"col_heading level0 col2\" >Model Accuracy with GridSearch</th>\n",
       "    </tr>\n",
       "  </thead>\n",
       "  <tbody>\n",
       "    <tr>\n",
       "      <td id=\"T_42b69_row0_col0\" class=\"data row0 col0\" >Logistic Regression</td>\n",
       "      <td id=\"T_42b69_row0_col1\" class=\"data row0 col1\" >82.11</td>\n",
       "      <td id=\"T_42b69_row0_col2\" class=\"data row0 col2\" >80.00</td>\n",
       "    </tr>\n",
       "    <tr>\n",
       "      <td id=\"T_42b69_row1_col0\" class=\"data row1 col0\" >Random Forest</td>\n",
       "      <td id=\"T_42b69_row1_col1\" class=\"data row1 col1\" >78.05</td>\n",
       "      <td id=\"T_42b69_row1_col2\" class=\"data row1 col2\" >80.00</td>\n",
       "    </tr>\n",
       "    <tr>\n",
       "      <td id=\"T_42b69_row2_col0\" class=\"data row2 col0\" >BaggingClassifier</td>\n",
       "      <td id=\"T_42b69_row2_col1\" class=\"data row2 col1\" >77.24</td>\n",
       "      <td id=\"T_42b69_row2_col2\" class=\"data row2 col2\" >100.00</td>\n",
       "    </tr>\n",
       "    <tr>\n",
       "      <td id=\"T_42b69_row3_col0\" class=\"data row3 col0\" >AdaBoostClassifier</td>\n",
       "      <td id=\"T_42b69_row3_col1\" class=\"data row3 col1\" >76.42</td>\n",
       "      <td id=\"T_42b69_row3_col2\" class=\"data row3 col2\" >80.00</td>\n",
       "    </tr>\n",
       "    <tr>\n",
       "      <td id=\"T_42b69_row4_col0\" class=\"data row4 col0\" >GradientBoostingClassifier</td>\n",
       "      <td id=\"T_42b69_row4_col1\" class=\"data row4 col1\" >75.61</td>\n",
       "      <td id=\"T_42b69_row4_col2\" class=\"data row4 col2\" >99.00</td>\n",
       "    </tr>\n",
       "    <tr>\n",
       "      <td id=\"T_42b69_row5_col0\" class=\"data row5 col0\" >Decision Tree</td>\n",
       "      <td id=\"T_42b69_row5_col1\" class=\"data row5 col1\" >73.98</td>\n",
       "      <td id=\"T_42b69_row5_col2\" class=\"data row5 col2\" >80.00</td>\n",
       "    </tr>\n",
       "    <tr>\n",
       "      <td id=\"T_42b69_row6_col0\" class=\"data row6 col0\" >Support Vector Machines</td>\n",
       "      <td id=\"T_42b69_row6_col1\" class=\"data row6 col1\" >69.11</td>\n",
       "      <td id=\"T_42b69_row6_col2\" class=\"data row6 col2\" >98.00</td>\n",
       "    </tr>\n",
       "    <tr>\n",
       "      <td id=\"T_42b69_row7_col0\" class=\"data row7 col0\" >KNN</td>\n",
       "      <td id=\"T_42b69_row7_col1\" class=\"data row7 col1\" >60.98</td>\n",
       "      <td id=\"T_42b69_row7_col2\" class=\"data row7 col2\" >69.00</td>\n",
       "    </tr>\n",
       "  </tbody>\n",
       "</table>\n"
      ],
      "text/plain": [
       "<pandas.io.formats.style.Styler at 0x7ca7e02c6350>"
      ]
     },
     "execution_count": 49,
     "metadata": {},
     "output_type": "execute_result"
    }
   ],
   "source": [
    "pd.set_option('precision',2)\n",
    "\n",
    "models.sort_values(by='Model Accuracy Score', ascending=False).style.background_gradient(\n",
    "        cmap='coolwarm').hide_index().set_properties(**{\n",
    "            'font-family': 'Lucida Calligraphy',\n",
    "            'color': 'LigntGreen',\n",
    "            'font-size': '15px'\n",
    "        })"
   ]
  },
  {
   "cell_type": "code",
   "execution_count": 50,
   "id": "b83d43fa",
   "metadata": {
    "execution": {
     "iopub.execute_input": "2024-09-30T07:24:18.196537Z",
     "iopub.status.busy": "2024-09-30T07:24:18.195671Z",
     "iopub.status.idle": "2024-09-30T07:24:18.870440Z",
     "shell.execute_reply": "2024-09-30T07:24:18.869172Z"
    },
    "papermill": {
     "duration": 0.720931,
     "end_time": "2024-09-30T07:24:18.873313",
     "exception": false,
     "start_time": "2024-09-30T07:24:18.152382",
     "status": "completed"
    },
    "tags": []
   },
   "outputs": [
    {
     "data": {
      "image/png": "[encoded data removed]",
      "text/plain": [
       "<Figure size 1296x864 with 1 Axes>"
      ]
     },
     "metadata": {
      "needs_background": "light"
     },
     "output_type": "display_data"
    }
   ],
   "source": [
    "p = plt.figure(figsize=(18,12))\n",
    "\n",
    "p = sns.set_theme(style=\"white\")\n",
    "\n",
    "p= models=models.sort_values(by='Model Accuracy Score',ascending=False)[:8]\n",
    "\n",
    "p = sns.barplot(y= 'Model', x= 'Model Accuracy Score', data= models)\n",
    "\n",
    "for container in p.containers:\n",
    "    p.bar_label(container,label_type = 'edge',padding = 8,size = 20,color = \"black\",rotation = 0,\n",
    "    bbox={\"boxstyle\": \"round\", \"pad\": 0.6, \"facecolor\": \"pink\", \"edgecolor\": \"black\", \"alpha\": 1})\n",
    "plt.title('COMPARE THE MODEL')\n",
    "plt.xlabel('MODEL')\n",
    "plt.ylabel('Model Accuracy');"
   ]
  },
  {
   "cell_type": "markdown",
   "id": "e90fbd70",
   "metadata": {
    "papermill": {
     "duration": 0.04303,
     "end_time": "2024-09-30T07:24:18.961013",
     "exception": false,
     "start_time": "2024-09-30T07:24:18.917983",
     "status": "completed"
    },
    "tags": []
   },
   "source": [
    "<span class=\"label label-default\" style=\"background-color:#DC1010; border-radius:12px; font-weight: bold; font-family:Verdana; font-size:28px; color:#FBFAFC; \">Comparing Models Result with GridSearchCv</span>"
   ]
  },
  {
   "cell_type": "code",
   "execution_count": 51,
   "id": "b9f1984b",
   "metadata": {
    "execution": {
     "iopub.execute_input": "2024-09-30T07:24:19.049396Z",
     "iopub.status.busy": "2024-09-30T07:24:19.048941Z",
     "iopub.status.idle": "2024-09-30T07:24:19.074256Z",
     "shell.execute_reply": "2024-09-30T07:24:19.072907Z"
    },
    "papermill": {
     "duration": 0.073829,
     "end_time": "2024-09-30T07:24:19.077978",
     "exception": false,
     "start_time": "2024-09-30T07:24:19.004149",
     "status": "completed"
    },
    "tags": []
   },
   "outputs": [
    {
     "data": {
      "text/html": [
       "<style type=\"text/css\">\n",
       "#T_f6930_row0_col0, #T_f6930_row1_col0, #T_f6930_row2_col0, #T_f6930_row3_col0, #T_f6930_row4_col0, #T_f6930_row5_col0, #T_f6930_row6_col0, #T_f6930_row7_col0 {\n",
       "  font-family: Lucida Calligraphy;\n",
       "  color: LigntGreen;\n",
       "  font-size: 15px;\n",
       "}\n",
       "#T_f6930_row0_col1 {\n",
       "  background-color: #f29274;\n",
       "  color: #f1f1f1;\n",
       "  font-family: Lucida Calligraphy;\n",
       "  color: LigntGreen;\n",
       "  font-size: 15px;\n",
       "}\n",
       "#T_f6930_row0_col2, #T_f6930_row3_col1 {\n",
       "  background-color: #b40426;\n",
       "  color: #f1f1f1;\n",
       "  font-family: Lucida Calligraphy;\n",
       "  color: LigntGreen;\n",
       "  font-size: 15px;\n",
       "}\n",
       "#T_f6930_row1_col1 {\n",
       "  background-color: #f7af91;\n",
       "  color: #000000;\n",
       "  font-family: Lucida Calligraphy;\n",
       "  color: LigntGreen;\n",
       "  font-size: 15px;\n",
       "}\n",
       "#T_f6930_row1_col2 {\n",
       "  background-color: #c0282f;\n",
       "  color: #f1f1f1;\n",
       "  font-family: Lucida Calligraphy;\n",
       "  color: LigntGreen;\n",
       "  font-size: 15px;\n",
       "}\n",
       "#T_f6930_row2_col1 {\n",
       "  background-color: #bbd1f8;\n",
       "  color: #000000;\n",
       "  font-family: Lucida Calligraphy;\n",
       "  color: LigntGreen;\n",
       "  font-size: 15px;\n",
       "}\n",
       "#T_f6930_row2_col2 {\n",
       "  background-color: #cb3e38;\n",
       "  color: #f1f1f1;\n",
       "  font-family: Lucida Calligraphy;\n",
       "  color: LigntGreen;\n",
       "  font-size: 15px;\n",
       "}\n",
       "#T_f6930_row3_col2, #T_f6930_row4_col2, #T_f6930_row5_col2, #T_f6930_row6_col2 {\n",
       "  background-color: #b1cbfc;\n",
       "  color: #000000;\n",
       "  font-family: Lucida Calligraphy;\n",
       "  color: LigntGreen;\n",
       "  font-size: 15px;\n",
       "}\n",
       "#T_f6930_row4_col1 {\n",
       "  background-color: #ec8165;\n",
       "  color: #f1f1f1;\n",
       "  font-family: Lucida Calligraphy;\n",
       "  color: LigntGreen;\n",
       "  font-size: 15px;\n",
       "}\n",
       "#T_f6930_row5_col1 {\n",
       "  background-color: #f5a081;\n",
       "  color: #000000;\n",
       "  font-family: Lucida Calligraphy;\n",
       "  color: LigntGreen;\n",
       "  font-size: 15px;\n",
       "}\n",
       "#T_f6930_row6_col1 {\n",
       "  background-color: #f3c7b1;\n",
       "  color: #000000;\n",
       "  font-family: Lucida Calligraphy;\n",
       "  color: LigntGreen;\n",
       "  font-size: 15px;\n",
       "}\n",
       "#T_f6930_row7_col1, #T_f6930_row7_col2 {\n",
       "  background-color: #3b4cc0;\n",
       "  color: #f1f1f1;\n",
       "  font-family: Lucida Calligraphy;\n",
       "  color: LigntGreen;\n",
       "  font-size: 15px;\n",
       "}\n",
       "</style>\n",
       "<table id=\"T_f6930_\">\n",
       "  <thead>\n",
       "    <tr>\n",
       "      <th class=\"col_heading level0 col0\" >Model</th>\n",
       "      <th class=\"col_heading level0 col1\" >Model Accuracy Score</th>\n",
       "      <th class=\"col_heading level0 col2\" >Model Accuracy with GridSearch</th>\n",
       "    </tr>\n",
       "  </thead>\n",
       "  <tbody>\n",
       "    <tr>\n",
       "      <td id=\"T_f6930_row0_col0\" class=\"data row0 col0\" >BaggingClassifier</td>\n",
       "      <td id=\"T_f6930_row0_col1\" class=\"data row0 col1\" >77.24</td>\n",
       "      <td id=\"T_f6930_row0_col2\" class=\"data row0 col2\" >100.00</td>\n",
       "    </tr>\n",
       "    <tr>\n",
       "      <td id=\"T_f6930_row1_col0\" class=\"data row1 col0\" >GradientBoostingClassifier</td>\n",
       "      <td id=\"T_f6930_row1_col1\" class=\"data row1 col1\" >75.61</td>\n",
       "      <td id=\"T_f6930_row1_col2\" class=\"data row1 col2\" >99.00</td>\n",
       "    </tr>\n",
       "    <tr>\n",
       "      <td id=\"T_f6930_row2_col0\" class=\"data row2 col0\" >Support Vector Machines</td>\n",
       "      <td id=\"T_f6930_row2_col1\" class=\"data row2 col1\" >69.11</td>\n",
       "      <td id=\"T_f6930_row2_col2\" class=\"data row2 col2\" >98.00</td>\n",
       "    </tr>\n",
       "    <tr>\n",
       "      <td id=\"T_f6930_row3_col0\" class=\"data row3 col0\" >Logistic Regression</td>\n",
       "      <td id=\"T_f6930_row3_col1\" class=\"data row3 col1\" >82.11</td>\n",
       "      <td id=\"T_f6930_row3_col2\" class=\"data row3 col2\" >80.00</td>\n",
       "    </tr>\n",
       "    <tr>\n",
       "      <td id=\"T_f6930_row4_col0\" class=\"data row4 col0\" >Random Forest</td>\n",
       "      <td id=\"T_f6930_row4_col1\" class=\"data row4 col1\" >78.05</td>\n",
       "      <td id=\"T_f6930_row4_col2\" class=\"data row4 col2\" >80.00</td>\n",
       "    </tr>\n",
       "    <tr>\n",
       "      <td id=\"T_f6930_row5_col0\" class=\"data row5 col0\" >AdaBoostClassifier</td>\n",
       "      <td id=\"T_f6930_row5_col1\" class=\"data row5 col1\" >76.42</td>\n",
       "      <td id=\"T_f6930_row5_col2\" class=\"data row5 col2\" >80.00</td>\n",
       "    </tr>\n",
       "    <tr>\n",
       "      <td id=\"T_f6930_row6_col0\" class=\"data row6 col0\" >Decision Tree</td>\n",
       "      <td id=\"T_f6930_row6_col1\" class=\"data row6 col1\" >73.98</td>\n",
       "      <td id=\"T_f6930_row6_col2\" class=\"data row6 col2\" >80.00</td>\n",
       "    </tr>\n",
       "    <tr>\n",
       "      <td id=\"T_f6930_row7_col0\" class=\"data row7 col0\" >KNN</td>\n",
       "      <td id=\"T_f6930_row7_col1\" class=\"data row7 col1\" >60.98</td>\n",
       "      <td id=\"T_f6930_row7_col2\" class=\"data row7 col2\" >69.00</td>\n",
       "    </tr>\n",
       "  </tbody>\n",
       "</table>\n"
      ],
      "text/plain": [
       "<pandas.io.formats.style.Styler at 0x7ca7df996150>"
      ]
     },
     "execution_count": 51,
     "metadata": {},
     "output_type": "execute_result"
    }
   ],
   "source": [
    "pd.set_option('precision',2)\n",
    "\n",
    "models.sort_values(by='Model Accuracy with GridSearch', ascending=False).style.background_gradient(\n",
    "        cmap='coolwarm').hide_index().set_properties(**{\n",
    "            'font-family': 'Lucida Calligraphy',\n",
    "            'color': 'LigntGreen',\n",
    "            'font-size': '15px'\n",
    "        })"
   ]
  },
  {
   "cell_type": "code",
   "execution_count": 52,
   "id": "0374e597",
   "metadata": {
    "execution": {
     "iopub.execute_input": "2024-09-30T07:24:19.166866Z",
     "iopub.status.busy": "2024-09-30T07:24:19.166417Z",
     "iopub.status.idle": "2024-09-30T07:24:19.636251Z",
     "shell.execute_reply": "2024-09-30T07:24:19.635006Z"
    },
    "papermill": {
     "duration": 0.517773,
     "end_time": "2024-09-30T07:24:19.639114",
     "exception": false,
     "start_time": "2024-09-30T07:24:19.121341",
     "status": "completed"
    },
    "tags": []
   },
   "outputs": [
    {
     "data": {
      "image/png": "[encoded data removed]",
      "text/plain": [
       "<Figure size 1296x864 with 1 Axes>"
      ]
     },
     "metadata": {},
     "output_type": "display_data"
    }
   ],
   "source": [
    "p = plt.figure(figsize=(18,12))\n",
    "p = sns.set_theme(style=\"white\")\n",
    "\n",
    "p = models=models.sort_values(by='Model Accuracy with GridSearch',ascending=False)[:8]\n",
    "\n",
    "p = sns.barplot(y= 'Model', x= 'Model Accuracy with GridSearch', data= models)\n",
    "\n",
    "for container in p.containers:\n",
    "    p.bar_label(container,label_type = 'edge',padding = 8,size = 20,color = \"black\",rotation = 0,\n",
    "    bbox={\"boxstyle\": \"round\", \"pad\": 0.6, \"facecolor\": \"pink\", \"edgecolor\": \"Blue\", \"alpha\": 1})\n",
    "\n",
    "plt.title('COMPARE THE MODEL')\n",
    "plt.xlabel('MODEL')\n",
    "plt.ylabel('Model Accuracy');"
   ]
  },
  {
   "cell_type": "markdown",
   "id": "36122700",
   "metadata": {
    "papermill": {
     "duration": 0.043643,
     "end_time": "2024-09-30T07:24:19.727726",
     "exception": false,
     "start_time": "2024-09-30T07:24:19.684083",
     "status": "completed"
    },
    "tags": []
   },
   "source": [
    "<div style=\"color:white;background-color:#5642C5;padding:3%;border-radius:110px 110px;font-size:2.5em;text-align:center\">Voting Classifier 📚</div>"
   ]
  },
  {
   "cell_type": "code",
   "execution_count": 53,
   "id": "b9ae1922",
   "metadata": {
    "execution": {
     "iopub.execute_input": "2024-09-30T07:24:19.818505Z",
     "iopub.status.busy": "2024-09-30T07:24:19.818034Z",
     "iopub.status.idle": "2024-09-30T07:24:20.494694Z",
     "shell.execute_reply": "2024-09-30T07:24:20.492949Z"
    },
    "papermill": {
     "duration": 0.72826,
     "end_time": "2024-09-30T07:24:20.500129",
     "exception": false,
     "start_time": "2024-09-30T07:24:19.771869",
     "status": "completed"
    },
    "tags": []
   },
   "outputs": [
    {
     "name": "stdout",
     "output_type": "stream",
     "text": [
      "Training the RandomForestClassifier(random_state=42)\n",
      "Training the ExtraTreesClassifier(random_state=42)\n",
      "Training the SVC(max_iter=100, random_state=42, tol=20)\n",
      "Training the MLPClassifier(random_state=42)\n"
     ]
    }
   ],
   "source": [
    "from sklearn.ensemble import RandomForestClassifier,ExtraTreesClassifier\n",
    "from sklearn.svm import SVC\n",
    "from sklearn.neural_network import MLPClassifier\n",
    "\n",
    "rnd_clf = RandomForestClassifier(n_estimators=100,random_state=42)\n",
    "extra_trees_clf = ExtraTreesClassifier(n_estimators=100,random_state=42)\n",
    "svm_clf = SVC(max_iter=100,tol=20,random_state=42)\n",
    "mlp_clf = MLPClassifier(random_state=42)\n",
    "\n",
    "estimators = [rnd_clf,extra_trees_clf,svm_clf,mlp_clf]\n",
    "for estimator in estimators:\n",
    "    print(\"Training the\", estimator)\n",
    "    estimator.fit(X_train,y_train)"
   ]
  },
  {
   "cell_type": "code",
   "execution_count": 54,
   "id": "7b8f6661",
   "metadata": {
    "execution": {
     "iopub.execute_input": "2024-09-30T07:24:20.649955Z",
     "iopub.status.busy": "2024-09-30T07:24:20.649477Z",
     "iopub.status.idle": "2024-09-30T07:24:21.399267Z",
     "shell.execute_reply": "2024-09-30T07:24:21.397967Z"
    },
    "papermill": {
     "duration": 0.81035,
     "end_time": "2024-09-30T07:24:21.403273",
     "exception": false,
     "start_time": "2024-09-30T07:24:20.592923",
     "status": "completed"
    },
    "tags": []
   },
   "outputs": [
    {
     "name": "stdout",
     "output_type": "stream",
     "text": [
      "VotingClassifier(estimators=[('random_forest_clf',\n",
      "                              RandomForestClassifier(random_state=42)),\n",
      "                             ('Extra_trees_clf',\n",
      "                              ExtraTreesClassifier(random_state=42)),\n",
      "                             ('SVM',\n",
      "                              SVC(max_iter=100, random_state=42, tol=20)),\n",
      "                             ('MLP', MLPClassifier(random_state=42))])\n",
      "voting_clf.score: 0.7967479674796748\n"
     ]
    }
   ],
   "source": [
    "from sklearn.ensemble import VotingClassifier\n",
    "\n",
    "named_estimators = [\n",
    "    (\"random_forest_clf\",rnd_clf),\n",
    "    (\"Extra_trees_clf\",extra_trees_clf),\n",
    "    (\"SVM\",svm_clf),\n",
    "    (\"MLP\",mlp_clf)\n",
    "]\n",
    "\n",
    "voting_clf = VotingClassifier(named_estimators)\n",
    "\n",
    "print(voting_clf.fit(X_train,y_train))\n",
    "print(\"voting_clf.score:\",voting_clf.score(X_test,y_test))"
   ]
  },
  {
   "cell_type": "markdown",
   "id": "b352a8d2",
   "metadata": {
    "papermill": {
     "duration": 0.053839,
     "end_time": "2024-09-30T07:24:21.550863",
     "exception": false,
     "start_time": "2024-09-30T07:24:21.497024",
     "status": "completed"
    },
    "tags": []
   },
   "source": [
    "<div style=\"color:white;background-color:#5642C5;padding:3%;border-radius:110px 110px;font-size:2.5em;text-align:center\">Roc Curve 📚</div>"
   ]
  },
  {
   "cell_type": "code",
   "execution_count": 55,
   "id": "0f433229",
   "metadata": {
    "execution": {
     "iopub.execute_input": "2024-09-30T07:24:21.642800Z",
     "iopub.status.busy": "2024-09-30T07:24:21.642355Z",
     "iopub.status.idle": "2024-09-30T07:24:21.654528Z",
     "shell.execute_reply": "2024-09-30T07:24:21.653333Z"
    },
    "papermill": {
     "duration": 0.060944,
     "end_time": "2024-09-30T07:24:21.657300",
     "exception": false,
     "start_time": "2024-09-30T07:24:21.596356",
     "status": "completed"
    },
    "tags": []
   },
   "outputs": [],
   "source": [
    "from sklearn.model_selection import KFold, StratifiedKFold\n",
    "from sklearn.metrics import log_loss\n",
    "\n",
    "def cross_val(X, y, model, params, folds=9):\n",
    "\n",
    "    skf = StratifiedKFold(n_splits=folds, shuffle=True, random_state=21)\n",
    "    for fold, (train_idx, test_idx) in enumerate(skf.split(X, y)):\n",
    "        print(f\"Fold: {fold}\")\n",
    "        x_train, y_train = X.iloc[train_idx], y.iloc[train_idx]\n",
    "        x_test, y_test = X.iloc[test_idx], y.iloc[test_idx]\n",
    "\n",
    "        alg = model(**params)\n",
    "        alg.fit(x_train, y_train,\n",
    "                eval_set=[(x_test, y_test)],\n",
    "                early_stopping_rounds=100,\n",
    "                verbose=400,\n",
    "                eval_metric='mlogloss')\n",
    "\n",
    "        pred = alg.predict_proba(x_test)\n",
    "        loss = log_loss(y_test, pred)\n",
    "        print(f\"Log loss: {loss}\")\n",
    "        print(\"-\"*50)\n",
    "    \n",
    "    return alg"
   ]
  },
  {
   "cell_type": "code",
   "execution_count": 56,
   "id": "10a32a04",
   "metadata": {
    "execution": {
     "iopub.execute_input": "2024-09-30T07:24:21.748975Z",
     "iopub.status.busy": "2024-09-30T07:24:21.748452Z",
     "iopub.status.idle": "2024-09-30T07:24:23.111769Z",
     "shell.execute_reply": "2024-09-30T07:24:23.110389Z"
    },
    "papermill": {
     "duration": 1.413065,
     "end_time": "2024-09-30T07:24:23.114986",
     "exception": false,
     "start_time": "2024-09-30T07:24:21.701921",
     "status": "completed"
    },
    "tags": []
   },
   "outputs": [
    {
     "data": {
      "image/png": "[encoded data removed]",
      "text/plain": [
       "<Figure size 1296x720 with 1 Axes>"
      ]
     },
     "metadata": {},
     "output_type": "display_data"
    }
   ],
   "source": [
    "plt.figure(figsize=(18,10))\n",
    "sns.set_style(style=\"white\")\n",
    "\n",
    "from sklearn.linear_model import LogisticRegression\n",
    "from sklearn.ensemble import RandomForestClassifier\n",
    "from sklearn.ensemble import AdaBoostClassifier\n",
    "from sklearn.ensemble import GradientBoostingClassifier\n",
    "from sklearn.ensemble import BaggingClassifier\n",
    "from sklearn.ensemble import ExtraTreesClassifier\n",
    "from sklearn.tree import DecisionTreeClassifier\n",
    "from sklearn.svm import SVC\n",
    "from xgboost import XGBClassifier\n",
    "\n",
    "lr = LogisticRegression()\n",
    "rf = RandomForestClassifier()\n",
    "abc = AdaBoostClassifier()\n",
    "gbc = GradientBoostingClassifier()\n",
    "bc = BaggingClassifier()\n",
    "etc = ExtraTreesClassifier()\n",
    "xgbc = XGBClassifier()\n",
    "svm = SVC(probability=True)\n",
    "dtc = DecisionTreeClassifier()\n",
    "\n",
    "from sklearn.metrics import roc_curve, auc\n",
    "import matplotlib.pyplot as plt\n",
    "\n",
    "\n",
    "all_clf=[lr, rf,dtc,svm,gbc,xgbc]\n",
    "clf_labels=[\"LR\", \"RF\",\"DTC\", \"SVM\",\"GBC\",\"XGBC\"]\n",
    "colors =[\"black\", \"orange\", \"blue\", \"green\",\"pink\",\"red\"]\n",
    "linestyles = [\":\",\"--\", \"-.\",\"-\",\"-\",\"-\"]\n",
    "\n",
    "for clf, label,clr,ls in zip(all_clf, clf_labels, colors, linestyles):\n",
    "  y_pred= clf.fit(X_train,y_train).predict_proba(X_test)[:,1]\n",
    "  fpr,tpr,thresholds = roc_curve(y_true= y_test, y_score=y_pred)\n",
    "  roc_auc= auc(x=fpr, y=tpr)\n",
    "  plt.plot(fpr, tpr, color=clr, linestyle=ls,\n",
    "           label='%s (auc = %0.2f)' % (label, roc_auc))\n",
    "  \n",
    "plt.legend(loc='lower right')\n",
    "plt.plot([0,1],[0,1],linestyle='--',color='gray',linewidth=2)\n",
    "plt.xlim([-0.1,1.1])\n",
    "plt.ylim([-0.1,1.1])\n",
    "plt.grid(alpha=0.5)\n",
    "plt.xlabel('False positive rate (FPR)')\n",
    "plt.ylabel('True positive rate (TPR)')\n",
    "plt.show()"
   ]
  },
  {
   "cell_type": "code",
   "execution_count": null,
   "id": "cbd083ff",
   "metadata": {
    "papermill": {
     "duration": 0.047976,
     "end_time": "2024-09-30T07:24:23.211188",
     "exception": false,
     "start_time": "2024-09-30T07:24:23.163212",
     "status": "completed"
    },
    "tags": []
   },
   "outputs": [],
   "source": []
  }
 ],
 "metadata": {
  "kaggle": {
   "accelerator": "none",
   "dataSources": [
    {
     "datasetId": 15953,
     "sourceId": 21070,
     "sourceType": "datasetVersion"
    }
   ],
   "dockerImageVersionId": 30236,
   "isGpuEnabled": false,
   "isInternetEnabled": true,
   "language": "python",
   "sourceType": "notebook"
  },
  "kernelspec": {
   "display_name": "Python 3",
   "language": "python",
   "name": "python3"
  },
  "language_info": {
   "codemirror_mode": {
    "name": "ipython",
    "version": 3
   },
   "file_extension": ".py",
   "mimetype": "text/x-python",
   "name": "python",
   "nbconvert_exporter": "python",
   "pygments_lexer": "ipython3",
   "version": "3.7.12"
  },
  "papermill": {
   "default_parameters": {},
   "duration": 338.142064,
   "end_time": "2024-09-30T07:24:25.882696",
   "environment_variables": {},
   "exception": null,
   "input_path": "__notebook__.ipynb",
   "output_path": "__notebook__.ipynb",
   "parameters": {},
   "start_time": "2024-09-30T07:18:47.740632",
   "version": "2.3.4"
  }
 },
 "nbformat": 4,
 "nbformat_minor": 5
}
